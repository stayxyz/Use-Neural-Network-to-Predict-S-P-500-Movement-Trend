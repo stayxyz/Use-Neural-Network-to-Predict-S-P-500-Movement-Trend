{
  "nbformat": 4,
  "nbformat_minor": 0,
  "metadata": {
    "colab": {
      "name": "ANNs/CNNs in Finance.ipynb",
      "provenance": [],
      "toc_visible": true,
      "include_colab_link": true
    },
    "kernelspec": {
      "name": "python3",
      "display_name": "Python 3"
    }
  },
  "cells": [
    {
      "cell_type": "markdown",
      "metadata": {
        "id": "view-in-github",
        "colab_type": "text"
      },
      "source": [
        "<a href=\"https://colab.research.google.com/github/stayxyz/Use-Neural-Network-to-Predict-S-P-500-Movement-Trend/blob/master/ANNs_CNNs_in_Finance.ipynb\" target=\"_parent\"><img src=\"https://colab.research.google.com/assets/colab-badge.svg\" alt=\"Open In Colab\"/></a>"
      ]
    },
    {
      "cell_type": "markdown",
      "metadata": {
        "id": "VuNoYUZrRuhF",
        "colab_type": "text"
      },
      "source": [
        "##General Imports"
      ]
    },
    {
      "cell_type": "code",
      "metadata": {
        "id": "FiHRtkJLRA3T",
        "colab_type": "code",
        "colab": {}
      },
      "source": [
        "%tensorflow_version 2.x"
      ],
      "execution_count": null,
      "outputs": []
    },
    {
      "cell_type": "code",
      "metadata": {
        "id": "GeBNxttmR5yz",
        "colab_type": "code",
        "colab": {}
      },
      "source": [
        "# General imports\n",
        "import string\n",
        "import numpy as np\n",
        "import pandas as pd\n",
        "import sklearn.feature_extraction as skprep\n",
        "from sklearn.metrics import roc_curve, auc\n",
        "from itertools import compress\n",
        "import matplotlib.pyplot as plt\n",
        "import seaborn as sns\n",
        "import random\n",
        "random.seed(251079926)\n",
        "%matplotlib inline\n",
        "\n",
        "# Keras imports\n",
        "import tensorflow as tf\n",
        "import tensorflow.keras as keras\n",
        "from tensorflow.keras.utils import get_file\n",
        "from tensorflow.keras.utils import to_categorical\n",
        "from tensorflow.keras.models import Sequential, Model\n",
        "from tensorflow.keras.layers import Activation, Dropout\n",
        "from tensorflow.keras.optimizers import Adam\n",
        "from tensorflow.keras.metrics import categorical_accuracy\n",
        "from tensorflow.keras.preprocessing import image, sequence\n",
        "from tensorflow.keras.preprocessing.text import Tokenizer\n",
        "from tensorflow.keras.layers import Dense, Input, GlobalMaxPooling1D\n",
        "from tensorflow.keras.preprocessing.sequence import pad_sequences"
      ],
      "execution_count": null,
      "outputs": []
    },
    {
      "cell_type": "code",
      "metadata": {
        "id": "_6SciobEpk7c",
        "colab_type": "code",
        "colab": {}
      },
      "source": [
        "import tensorflow as tf\n",
        "import tensorflow.keras as keras\n",
        "from tensorflow.keras.utils import to_categorical\n",
        "from tensorflow.keras.models import Sequential, Model\n",
        "from tensorflow.keras.layers import Input, Embedding, Reshape\n",
        "from tensorflow.keras.layers import Activation\n",
        "from tensorflow.keras.layers import Flatten, Dense, Dropout, Lambda\n",
        "from tensorflow.keras.layers import BatchNormalization\n",
        "from tensorflow.keras.optimizers import SGD, RMSprop, Adam\n",
        "from tensorflow.keras.metrics import categorical_crossentropy, categorical_accuracy\n",
        "from tensorflow.keras.layers import AveragePooling1D, Conv1D\n",
        "from tensorflow.keras.preprocessing import image, sequence\n",
        "from tensorflow.keras.preprocessing.text import Tokenizer\n",
        "from tensorflow.keras.preprocessing.sequence import pad_sequences\n",
        "import missingno as mno"
      ],
      "execution_count": null,
      "outputs": []
    },
    {
      "cell_type": "code",
      "metadata": {
        "id": "1oK8p7LcR7dk",
        "colab_type": "code",
        "colab": {
          "base_uri": "https://localhost:8080/",
          "height": 34
        },
        "outputId": "4d26acfc-73fd-419e-d2e0-32b24ed7e3e5"
      },
      "source": [
        "print(tf.__version__)"
      ],
      "execution_count": null,
      "outputs": [
        {
          "output_type": "stream",
          "text": [
            "2.2.0-rc2\n"
          ],
          "name": "stdout"
        }
      ]
    },
    {
      "cell_type": "code",
      "metadata": {
        "id": "1tmUPMDzR93C",
        "colab_type": "code",
        "colab": {}
      },
      "source": [
        "# Others\n",
        "import numpy as np\n",
        "from sklearn.model_selection import train_test_split\n",
        "\n",
        "# For AUC estimation and ROC plots\n",
        "from sklearn.metrics import roc_curve, auc\n",
        "\n",
        "# Plots\n",
        "import matplotlib.pyplot as plt\n",
        "import seaborn as sns\n",
        "%matplotlib inline"
      ],
      "execution_count": null,
      "outputs": []
    },
    {
      "cell_type": "code",
      "metadata": {
        "id": "Ls6FzehqR_2W",
        "colab_type": "code",
        "colab": {}
      },
      "source": [
        "import numpy as np\n",
        "import pandas as pd\n",
        "import math as math\n",
        "import string\n",
        "import seaborn as sns\n",
        "import statistics\n",
        "import matplotlib.pyplot as plt\n",
        "%matplotlib inline\n",
        "import os\n",
        "import codecs\n",
        "import copy as cp\n",
        "from sklearn.decomposition import PCA\n",
        "import torch\n",
        "import pandas as pd\n",
        "import torch.nn as nn\n",
        "import torch.optim as optim\n",
        "import torch.nn.functional as F\n",
        "import numpy as np\n",
        "from sklearn.model_selection import train_test_split\n",
        "import matplotlib.pyplot as plt\n",
        "import random\n",
        "import time"
      ],
      "execution_count": null,
      "outputs": []
    },
    {
      "cell_type": "markdown",
      "metadata": {
        "id": "61M8aJqeXYrW",
        "colab_type": "text"
      },
      "source": [
        "## Feature Dictionary "
      ]
    },
    {
      "cell_type": "markdown",
      "metadata": {
        "id": "kOai61_qXpdh",
        "colab_type": "text"
      },
      "source": [
        "Ticker Name | Financial Data Definition\n",
        "--- | ---\n",
        "GSPC | S&P 500 Index\n",
        "GC = F | Gold Future \n",
        "DJI | Dow Jones Industrial Average\n",
        "IXIC | NASDAQ Composite \n",
        "RUT | Russell 2000\n",
        "CL=F| Crude Oil Future\n",
        "EURUSD=X | EUR/USD Exchange Rate\n",
        "TNX  | Treasury Yield 10 Years\n",
        "GBPUSD=X | GBP/USD EXchange Rate \n",
        "S=F  | Soybeans Future\n",
        "TYX | Treasury Yield 30 Years\n",
        "CNYUSD=X | CNY/USD Exchange Rate\n",
        "IXCO | NASDAQ Computer\n",
        "MID | S&P MID CAP 400 INDEX\n",
        "NDX | NASDAQ 100\n",
        "NYA | NYSE COMPOSITE\n",
        "RUI |RUSSELL 1000 INDEX\n",
        "PSE | NYSE Arca Tech 100 Index\n",
        "XAU |PHLX GOLD and SILVER SECTOR I\n",
        "XAX | NYSE AMEX COMPOSITE INDEX\n",
        "XSPX.L |Xtrackers S&P 500 Swap UCITS ETF 1C\n",
        "SDS | ProShares UltraShort S&P500\n",
        "\n",
        "\n",
        "\n"
      ]
    },
    {
      "cell_type": "markdown",
      "metadata": {
        "id": "WmtlemHdScMU",
        "colab_type": "text"
      },
      "source": [
        "##Data Imports"
      ]
    },
    {
      "cell_type": "code",
      "metadata": {
        "id": "G6bY10atSYkg",
        "colab_type": "code",
        "colab": {
          "base_uri": "https://localhost:8080/",
          "height": 170
        },
        "outputId": "6ff4329c-ec34-45b6-bd42-c7c20dfb5146"
      },
      "source": [
        "! gdown  https://drive.google.com/uc?id=15XbHm_39fxSWa477p2SqKnYufQiHrWIQ\n",
        "! unzip '/content/^GSPC.xlsx.zip'"
      ],
      "execution_count": null,
      "outputs": [
        {
          "output_type": "stream",
          "text": [
            "Downloading...\n",
            "From: https://drive.google.com/uc?id=15XbHm_39fxSWa477p2SqKnYufQiHrWIQ\n",
            "To: /content/^GSPC.xlsx.zip\n",
            "\r  0% 0.00/415k [00:00<?, ?B/s]\r100% 415k/415k [00:00<00:00, 59.4MB/s]\n",
            "Archive:  /content/^GSPC.xlsx.zip\n",
            "replace ^GSPC.xlsx? [y]es, [n]o, [A]ll, [N]one, [r]ename: y\n",
            "  inflating: ^GSPC.xlsx              \n",
            "replace __MACOSX/._^GSPC.xlsx? [y]es, [n]o, [A]ll, [N]one, [r]ename: y\n",
            "  inflating: __MACOSX/._^GSPC.xlsx   \n"
          ],
          "name": "stdout"
        }
      ]
    },
    {
      "cell_type": "code",
      "metadata": {
        "id": "aKKRfJay-Hu1",
        "colab_type": "code",
        "colab": {}
      },
      "source": [
        "Raw_data  = pd.read_excel('^GSPC.xlsx')"
      ],
      "execution_count": null,
      "outputs": []
    },
    {
      "cell_type": "code",
      "metadata": {
        "id": "V3HIsO40-npb",
        "colab_type": "code",
        "colab": {
          "base_uri": "https://localhost:8080/",
          "height": 34
        },
        "outputId": "bea4a776-9e84-4114-9468-4609f39cd1dc"
      },
      "source": [
        "# Checking the data shape \n",
        "Raw_data.shape "
      ],
      "execution_count": null,
      "outputs": [
        {
          "output_type": "execute_result",
          "data": {
            "text/plain": [
              "(2517, 23)"
            ]
          },
          "metadata": {
            "tags": []
          },
          "execution_count": 53
        }
      ]
    },
    {
      "cell_type": "markdown",
      "metadata": {
        "id": "ulG1kIfNR1pg",
        "colab_type": "text"
      },
      "source": [
        "##Data Cleaning & Feature Selection"
      ]
    },
    {
      "cell_type": "code",
      "metadata": {
        "id": "EDTssAKBSMD_",
        "colab_type": "code",
        "colab": {
          "base_uri": "https://localhost:8080/",
          "height": 442
        },
        "outputId": "ca46d8fd-af25-4e71-8bec-37c4ac262ac0"
      },
      "source": [
        "#We delete useless rows where loan amount is Null\n",
        "\n",
        "#First we check if the Raw data has empty value \n",
        "nullset = Raw_data.isnull()\n",
        "null_counts = Raw_data.isnull().sum() / len(Raw_data)\n",
        "print(\"percentage of null values in each column:\\n{}\".format(null_counts.head(23)))"
      ],
      "execution_count": null,
      "outputs": [
        {
          "output_type": "stream",
          "text": [
            "percentage of null values in each column:\n",
            "Date        0.000000\n",
            "GSPC        0.000000\n",
            "GC=F        0.008741\n",
            "DJI         0.000795\n",
            "IXIC        0.000795\n",
            "RUT         0.000795\n",
            "CL=F        0.008343\n",
            "EURUSD=X    0.001986\n",
            "TNX         0.008741\n",
            "GBPUSD=X    0.001986\n",
            "S=F         0.008343\n",
            "TYX         0.008741\n",
            "CNYUSD=X    0.002384\n",
            "IXCO        0.000795\n",
            "MID         0.000795\n",
            "NDX         0.000795\n",
            "NYA         0.000795\n",
            "RUI         0.001192\n",
            "PSE         0.000795\n",
            "XAU         0.001192\n",
            "XAX         0.000795\n",
            "XSPX.L      0.860151\n",
            "SDS         0.000000\n",
            "dtype: float64\n"
          ],
          "name": "stdout"
        }
      ]
    },
    {
      "cell_type": "markdown",
      "metadata": {
        "id": "wsVwJaKjKFlo",
        "colab_type": "text"
      },
      "source": [
        "Decision: any covaraites which has more than 80% missing value will be dropped, and any covariates with < 1% missing value will be replcaed with the median value "
      ]
    },
    {
      "cell_type": "code",
      "metadata": {
        "id": "2Kwk8Iv-75Ar",
        "colab_type": "code",
        "colab": {}
      },
      "source": [
        " Data = Raw_data"
      ],
      "execution_count": null,
      "outputs": []
    },
    {
      "cell_type": "markdown",
      "metadata": {
        "id": "oAB7wfg3VmE7",
        "colab_type": "text"
      },
      "source": [
        "Here we delete 'XSPX.L' for missing 86.0151% data - 'XSPX.L' stands for Xtrackers S&P 500 Swap UCITS ETF 1C"
      ]
    },
    {
      "cell_type": "code",
      "metadata": {
        "id": "4Bw25jFjIU39",
        "colab_type": "code",
        "colab": {}
      },
      "source": [
        "Data = Data.drop(columns = 'XSPX.L')"
      ],
      "execution_count": null,
      "outputs": []
    },
    {
      "cell_type": "markdown",
      "metadata": {
        "id": "nbUc8ytihQOT",
        "colab_type": "text"
      },
      "source": [
        "Define the functions to clean the data"
      ]
    },
    {
      "cell_type": "code",
      "metadata": {
        "id": "wRsT1-CVhPR6",
        "colab_type": "code",
        "colab": {}
      },
      "source": [
        "def GetTrainAndTest(ratio, Y, X):\n",
        "    N = int(np.floor(len(Y) * ratio))\n",
        "    data_train = pd.concat([Y[0:N], X.iloc[0:N, :]], axis = 1)\n",
        "    data_test = pd.concat([Y[N:len(Y)], X.iloc[N:len(Y)]], axis = 1)\n",
        "    return data_train, data_test\n",
        "    \n",
        "def OmitNAN(X, Y):\n",
        "    for i in range(0,len(X)):\n",
        "        Xsum = np.sum(X[i,:,:],1)\n",
        "        idx = ~np.isnan(Xsum)\n",
        "        X=X[:,idx,:]\n",
        "        Y=Y[idx]\n",
        "    return X, Y \n",
        "\n",
        "def DeleteOutlier(X, Y):\n",
        "    for i in range(0,len(X)):\n",
        "        Xsum = np.sum(X[i,:,:],1)\n",
        "        idx = ( Xsum <= 3)\n",
        "        X=X[:,idx,:]\n",
        "        Y=Y[idx]\n",
        "    return X, Y\n",
        "\n",
        "def GetLags(data_train, data_test, nlags):\n",
        "    end = len(data_train)\n",
        "    Y_train = data_train.iloc[nlags:end, 0]\n",
        "    X_train = np.zeros([nlags, end - nlags, data_train.shape[1] - 1])\n",
        "    \n",
        "    end = len(data_test)\n",
        "    X_test = np.zeros([nlags, end - nlags, data_test.shape[1] - 1])\n",
        "    Y_test = data_test.iloc[nlags:end, 0]\n",
        "    for i in range (1,nlags+1):\n",
        "        end = len(data_train)\n",
        "        X_train[i-1,:,:] = data_train.iloc[nlags-i:end-i, 1:data_test.shape[1]]\n",
        "        end = len(data_test)\n",
        "        X_test[i-1,:,:] = data_test.iloc[nlags-i:end-i, 1:data_test.shape[1]]\n",
        "    return X_train, Y_train, X_test, Y_test\n",
        "\n",
        "\n",
        "def NormalizeFeatures(X_train,X_test):\n",
        "    for i in range (0, X_train.shape[2]):\n",
        "        mu = np.quantile(X_train[:, :, i], 0.5)\n",
        "        temp= X_train[:,:,i] - mu\n",
        "        sigma = max(np.abs(np.quantile(temp, 0.95)), np.abs(np.quantile(temp, 0.05)))\n",
        "        X_train[:,:,i] = temp/sigma\n",
        "        X_test[:,:,i] = (X_test[:,:,i] - mu)/sigma\n",
        "    return X_train, X_test"
      ],
      "execution_count": null,
      "outputs": []
    },
    {
      "cell_type": "code",
      "metadata": {
        "id": "S_Ow0FJIHeih",
        "colab_type": "code",
        "colab": {}
      },
      "source": [
        "date = Data.Date\n",
        "data = Data.drop(columns = 'Date')\n",
        "data = np.log(data).diff(axis = 0)\n",
        "MA_period = 20"
      ],
      "execution_count": null,
      "outputs": []
    },
    {
      "cell_type": "code",
      "metadata": {
        "id": "CZBZPmcCHnsR",
        "colab_type": "code",
        "colab": {}
      },
      "source": [
        "col_name = data.columns.tolist()\n",
        "col_name.insert(0,'MAmean')\n",
        "data = data.reindex(columns=col_name)\n",
        "for i in range(MA_period+1, len(data)):\n",
        "    data.MAmean[i-1] = np.mean(data.GSPC[i - MA_period + 1 : i])"
      ],
      "execution_count": null,
      "outputs": []
    },
    {
      "cell_type": "code",
      "metadata": {
        "id": "oqMiswH7IBUB",
        "colab_type": "code",
        "colab": {
          "base_uri": "https://localhost:8080/",
          "height": 292
        },
        "outputId": "2acad340-5c59-4324-bccb-b8679302aee8"
      },
      "source": [
        "col_name = data.columns.tolist()\n",
        "col_name.insert(0,'REGIME')\n",
        "data = data.reindex(columns=col_name)\n",
        "data.REGIME = 1\n",
        "for i in range(MA_period+1, len(data)):\n",
        "    if data.GSPC[i] - data.MAmean[i-1] > -0.005:\n",
        "        data.REGIME[i] = data.REGIME[i] + 1\n",
        "        if data.GSPC[i] - data.MAmean[i-1] > 0:\n",
        "            data.REGIME[i] = data.REGIME[i] + 1\n",
        "            if data.GSPC[i] - data.MAmean[i-1] > 0.005:\n",
        "                data.REGIME[i] = data.REGIME[i] + 1"
      ],
      "execution_count": null,
      "outputs": [
        {
          "output_type": "stream",
          "text": [
            "/usr/local/lib/python3.6/dist-packages/ipykernel_launcher.py:7: SettingWithCopyWarning: \n",
            "A value is trying to be set on a copy of a slice from a DataFrame\n",
            "\n",
            "See the caveats in the documentation: https://pandas.pydata.org/pandas-docs/stable/user_guide/indexing.html#returning-a-view-versus-a-copy\n",
            "  import sys\n",
            "/usr/local/lib/python3.6/dist-packages/ipykernel_launcher.py:9: SettingWithCopyWarning: \n",
            "A value is trying to be set on a copy of a slice from a DataFrame\n",
            "\n",
            "See the caveats in the documentation: https://pandas.pydata.org/pandas-docs/stable/user_guide/indexing.html#returning-a-view-versus-a-copy\n",
            "  if __name__ == '__main__':\n",
            "/usr/local/lib/python3.6/dist-packages/ipykernel_launcher.py:11: SettingWithCopyWarning: \n",
            "A value is trying to be set on a copy of a slice from a DataFrame\n",
            "\n",
            "See the caveats in the documentation: https://pandas.pydata.org/pandas-docs/stable/user_guide/indexing.html#returning-a-view-versus-a-copy\n",
            "  # This is added back by InteractiveShellApp.init_path()\n"
          ],
          "name": "stderr"
        }
      ]
    },
    {
      "cell_type": "code",
      "metadata": {
        "id": "_0EWClhB8ylR",
        "colab_type": "code",
        "colab": {}
      },
      "source": [
        "data= data.reset_index(drop=True)"
      ],
      "execution_count": null,
      "outputs": []
    },
    {
      "cell_type": "code",
      "metadata": {
        "id": "kvD8_olu7js6",
        "colab_type": "code",
        "colab": {
          "base_uri": "https://localhost:8080/",
          "height": 122
        },
        "outputId": "42a798e3-ee3c-4600-8cd6-8322e149148a"
      },
      "source": [
        "temp = data.values[:, 3:data.shape[1]]\n",
        "data.iloc[1:len(data), 3:data.shape[1]] = cp.deepcopy(temp[0:len(temp)-1, :])\n",
        "Nlags = 3\n",
        "\n",
        "\n",
        "for i in range(0,Nlags):\n",
        "    col_name = data.columns.tolist()\n",
        "    col_name.insert(col_name.index('GSPC') + i + 1, 'GSPC_lag' + str(i+1))\n",
        "    data = data.reindex(columns=col_name)\n",
        "    data['GSPC_lag' + str(i+1)][i + 1:len(data)] = data.GSPC.values[0: len(data) - i - 1]"
      ],
      "execution_count": null,
      "outputs": [
        {
          "output_type": "stream",
          "text": [
            "/usr/local/lib/python3.6/dist-packages/ipykernel_launcher.py:10: SettingWithCopyWarning: \n",
            "A value is trying to be set on a copy of a slice from a DataFrame\n",
            "\n",
            "See the caveats in the documentation: https://pandas.pydata.org/pandas-docs/stable/user_guide/indexing.html#returning-a-view-versus-a-copy\n",
            "  # Remove the CWD from sys.path while we load stuff.\n"
          ],
          "name": "stderr"
        }
      ]
    },
    {
      "cell_type": "code",
      "metadata": {
        "id": "Z0Kn7ypjItqd",
        "colab_type": "code",
        "colab": {}
      },
      "source": [
        "pcor = data.corr(method = 'pearson')\n",
        "scor = data.corr(method = 'spearman')"
      ],
      "execution_count": null,
      "outputs": []
    },
    {
      "cell_type": "code",
      "metadata": {
        "id": "hRl_ugpkYzec",
        "colab_type": "code",
        "colab": {
          "base_uri": "https://localhost:8080/",
          "height": 875
        },
        "outputId": "1ad9fe2b-ff06-4144-ab5a-8b33c083fbda"
      },
      "source": [
        "pcor"
      ],
      "execution_count": null,
      "outputs": [
        {
          "output_type": "execute_result",
          "data": {
            "text/html": [
              "<div>\n",
              "<style scoped>\n",
              "    .dataframe tbody tr th:only-of-type {\n",
              "        vertical-align: middle;\n",
              "    }\n",
              "\n",
              "    .dataframe tbody tr th {\n",
              "        vertical-align: top;\n",
              "    }\n",
              "\n",
              "    .dataframe thead th {\n",
              "        text-align: right;\n",
              "    }\n",
              "</style>\n",
              "<table border=\"1\" class=\"dataframe\">\n",
              "  <thead>\n",
              "    <tr style=\"text-align: right;\">\n",
              "      <th></th>\n",
              "      <th>REGIME</th>\n",
              "      <th>MAmean</th>\n",
              "      <th>GSPC</th>\n",
              "      <th>GSPC_lag1</th>\n",
              "      <th>GSPC_lag2</th>\n",
              "      <th>GSPC_lag3</th>\n",
              "      <th>GC=F</th>\n",
              "      <th>DJI</th>\n",
              "      <th>IXIC</th>\n",
              "      <th>RUT</th>\n",
              "      <th>CL=F</th>\n",
              "      <th>EURUSD=X</th>\n",
              "      <th>TNX</th>\n",
              "      <th>GBPUSD=X</th>\n",
              "      <th>S=F</th>\n",
              "      <th>TYX</th>\n",
              "      <th>CNYUSD=X</th>\n",
              "      <th>IXCO</th>\n",
              "      <th>MID</th>\n",
              "      <th>NDX</th>\n",
              "      <th>NYA</th>\n",
              "      <th>RUI</th>\n",
              "      <th>PSE</th>\n",
              "      <th>XAU</th>\n",
              "      <th>XAX</th>\n",
              "      <th>SDS</th>\n",
              "    </tr>\n",
              "  </thead>\n",
              "  <tbody>\n",
              "    <tr>\n",
              "      <th>REGIME</th>\n",
              "      <td>1.000000</td>\n",
              "      <td>0.020652</td>\n",
              "      <td>0.802092</td>\n",
              "      <td>-0.082890</td>\n",
              "      <td>-0.032706</td>\n",
              "      <td>-0.046149</td>\n",
              "      <td>-0.004761</td>\n",
              "      <td>-0.086597</td>\n",
              "      <td>-0.073751</td>\n",
              "      <td>-0.068902</td>\n",
              "      <td>-0.028408</td>\n",
              "      <td>0.025977</td>\n",
              "      <td>-0.060351</td>\n",
              "      <td>0.017470</td>\n",
              "      <td>0.013874</td>\n",
              "      <td>-0.054912</td>\n",
              "      <td>0.009602</td>\n",
              "      <td>-0.069355</td>\n",
              "      <td>-0.071853</td>\n",
              "      <td>-0.074760</td>\n",
              "      <td>-0.081332</td>\n",
              "      <td>-0.081473</td>\n",
              "      <td>-0.066713</td>\n",
              "      <td>-0.013418</td>\n",
              "      <td>-0.041117</td>\n",
              "      <td>0.079159</td>\n",
              "    </tr>\n",
              "    <tr>\n",
              "      <th>MAmean</th>\n",
              "      <td>0.020652</td>\n",
              "      <td>1.000000</td>\n",
              "      <td>0.241378</td>\n",
              "      <td>0.215323</td>\n",
              "      <td>0.208687</td>\n",
              "      <td>0.182919</td>\n",
              "      <td>-0.021200</td>\n",
              "      <td>0.213466</td>\n",
              "      <td>0.210230</td>\n",
              "      <td>0.194736</td>\n",
              "      <td>0.112094</td>\n",
              "      <td>0.029773</td>\n",
              "      <td>0.163580</td>\n",
              "      <td>0.067216</td>\n",
              "      <td>0.025516</td>\n",
              "      <td>0.157201</td>\n",
              "      <td>0.021019</td>\n",
              "      <td>0.201296</td>\n",
              "      <td>0.204887</td>\n",
              "      <td>0.202236</td>\n",
              "      <td>0.210420</td>\n",
              "      <td>0.216246</td>\n",
              "      <td>0.203568</td>\n",
              "      <td>0.042046</td>\n",
              "      <td>0.173948</td>\n",
              "      <td>-0.204069</td>\n",
              "    </tr>\n",
              "    <tr>\n",
              "      <th>GSPC</th>\n",
              "      <td>0.802092</td>\n",
              "      <td>0.241378</td>\n",
              "      <td>1.000000</td>\n",
              "      <td>-0.060564</td>\n",
              "      <td>0.026231</td>\n",
              "      <td>-0.047778</td>\n",
              "      <td>-0.002999</td>\n",
              "      <td>-0.069510</td>\n",
              "      <td>-0.048282</td>\n",
              "      <td>-0.049570</td>\n",
              "      <td>-0.006583</td>\n",
              "      <td>0.030096</td>\n",
              "      <td>-0.010853</td>\n",
              "      <td>0.001152</td>\n",
              "      <td>0.011308</td>\n",
              "      <td>0.013159</td>\n",
              "      <td>0.017518</td>\n",
              "      <td>-0.041904</td>\n",
              "      <td>-0.047482</td>\n",
              "      <td>-0.049558</td>\n",
              "      <td>-0.052096</td>\n",
              "      <td>-0.058481</td>\n",
              "      <td>-0.045333</td>\n",
              "      <td>0.000014</td>\n",
              "      <td>-0.018282</td>\n",
              "      <td>0.056205</td>\n",
              "    </tr>\n",
              "    <tr>\n",
              "      <th>GSPC_lag1</th>\n",
              "      <td>-0.082890</td>\n",
              "      <td>0.215323</td>\n",
              "      <td>-0.060564</td>\n",
              "      <td>1.000000</td>\n",
              "      <td>-0.045120</td>\n",
              "      <td>0.030054</td>\n",
              "      <td>-0.035010</td>\n",
              "      <td>0.973124</td>\n",
              "      <td>0.955508</td>\n",
              "      <td>0.907930</td>\n",
              "      <td>0.386989</td>\n",
              "      <td>0.019856</td>\n",
              "      <td>0.465141</td>\n",
              "      <td>0.070850</td>\n",
              "      <td>0.164811</td>\n",
              "      <td>0.461543</td>\n",
              "      <td>-0.016613</td>\n",
              "      <td>0.893092</td>\n",
              "      <td>0.943720</td>\n",
              "      <td>0.933379</td>\n",
              "      <td>0.977193</td>\n",
              "      <td>0.998199</td>\n",
              "      <td>0.927738</td>\n",
              "      <td>0.223671</td>\n",
              "      <td>0.767246</td>\n",
              "      <td>-0.997858</td>\n",
              "    </tr>\n",
              "    <tr>\n",
              "      <th>GSPC_lag2</th>\n",
              "      <td>-0.032706</td>\n",
              "      <td>0.208687</td>\n",
              "      <td>0.026231</td>\n",
              "      <td>-0.045120</td>\n",
              "      <td>1.000000</td>\n",
              "      <td>-0.051958</td>\n",
              "      <td>0.037232</td>\n",
              "      <td>-0.038954</td>\n",
              "      <td>-0.032059</td>\n",
              "      <td>-0.043085</td>\n",
              "      <td>0.042866</td>\n",
              "      <td>0.149443</td>\n",
              "      <td>0.024077</td>\n",
              "      <td>0.183388</td>\n",
              "      <td>0.018458</td>\n",
              "      <td>0.033835</td>\n",
              "      <td>0.052459</td>\n",
              "      <td>-0.029581</td>\n",
              "      <td>-0.016108</td>\n",
              "      <td>-0.034675</td>\n",
              "      <td>-0.028323</td>\n",
              "      <td>-0.039921</td>\n",
              "      <td>-0.029336</td>\n",
              "      <td>0.027312</td>\n",
              "      <td>0.004940</td>\n",
              "      <td>0.046697</td>\n",
              "    </tr>\n",
              "    <tr>\n",
              "      <th>GSPC_lag3</th>\n",
              "      <td>-0.046149</td>\n",
              "      <td>0.182919</td>\n",
              "      <td>-0.047778</td>\n",
              "      <td>0.030054</td>\n",
              "      <td>-0.051958</td>\n",
              "      <td>1.000000</td>\n",
              "      <td>0.001881</td>\n",
              "      <td>0.041142</td>\n",
              "      <td>0.018795</td>\n",
              "      <td>0.027839</td>\n",
              "      <td>0.031078</td>\n",
              "      <td>-0.068802</td>\n",
              "      <td>0.027215</td>\n",
              "      <td>-0.021943</td>\n",
              "      <td>0.002098</td>\n",
              "      <td>0.013057</td>\n",
              "      <td>0.024390</td>\n",
              "      <td>0.007041</td>\n",
              "      <td>0.025396</td>\n",
              "      <td>0.016495</td>\n",
              "      <td>0.020534</td>\n",
              "      <td>0.029974</td>\n",
              "      <td>0.011923</td>\n",
              "      <td>0.019662</td>\n",
              "      <td>0.031225</td>\n",
              "      <td>-0.024361</td>\n",
              "    </tr>\n",
              "    <tr>\n",
              "      <th>GC=F</th>\n",
              "      <td>-0.004761</td>\n",
              "      <td>-0.021200</td>\n",
              "      <td>-0.002999</td>\n",
              "      <td>-0.035010</td>\n",
              "      <td>0.037232</td>\n",
              "      <td>0.001881</td>\n",
              "      <td>1.000000</td>\n",
              "      <td>-0.044069</td>\n",
              "      <td>-0.038217</td>\n",
              "      <td>-0.010359</td>\n",
              "      <td>0.131997</td>\n",
              "      <td>0.049768</td>\n",
              "      <td>-0.203132</td>\n",
              "      <td>0.044328</td>\n",
              "      <td>0.103823</td>\n",
              "      <td>-0.162932</td>\n",
              "      <td>0.005390</td>\n",
              "      <td>-0.033899</td>\n",
              "      <td>-0.018213</td>\n",
              "      <td>-0.040541</td>\n",
              "      <td>0.014180</td>\n",
              "      <td>-0.033595</td>\n",
              "      <td>-0.030610</td>\n",
              "      <td>0.605464</td>\n",
              "      <td>0.166687</td>\n",
              "      <td>0.034961</td>\n",
              "    </tr>\n",
              "    <tr>\n",
              "      <th>DJI</th>\n",
              "      <td>-0.086597</td>\n",
              "      <td>0.213466</td>\n",
              "      <td>-0.069510</td>\n",
              "      <td>0.973124</td>\n",
              "      <td>-0.038954</td>\n",
              "      <td>0.041142</td>\n",
              "      <td>-0.044069</td>\n",
              "      <td>1.000000</td>\n",
              "      <td>0.900909</td>\n",
              "      <td>0.856413</td>\n",
              "      <td>0.378364</td>\n",
              "      <td>0.021002</td>\n",
              "      <td>0.466227</td>\n",
              "      <td>0.069014</td>\n",
              "      <td>0.159673</td>\n",
              "      <td>0.461588</td>\n",
              "      <td>-0.012976</td>\n",
              "      <td>0.840076</td>\n",
              "      <td>0.898953</td>\n",
              "      <td>0.881022</td>\n",
              "      <td>0.953378</td>\n",
              "      <td>0.968008</td>\n",
              "      <td>0.887686</td>\n",
              "      <td>0.194519</td>\n",
              "      <td>0.740905</td>\n",
              "      <td>-0.970846</td>\n",
              "    </tr>\n",
              "    <tr>\n",
              "      <th>IXIC</th>\n",
              "      <td>-0.073751</td>\n",
              "      <td>0.210230</td>\n",
              "      <td>-0.048282</td>\n",
              "      <td>0.955508</td>\n",
              "      <td>-0.032059</td>\n",
              "      <td>0.018795</td>\n",
              "      <td>-0.038217</td>\n",
              "      <td>0.900909</td>\n",
              "      <td>1.000000</td>\n",
              "      <td>0.911026</td>\n",
              "      <td>0.332892</td>\n",
              "      <td>0.028004</td>\n",
              "      <td>0.431087</td>\n",
              "      <td>0.074454</td>\n",
              "      <td>0.165762</td>\n",
              "      <td>0.423310</td>\n",
              "      <td>-0.020670</td>\n",
              "      <td>0.964247</td>\n",
              "      <td>0.919513</td>\n",
              "      <td>0.987761</td>\n",
              "      <td>0.907388</td>\n",
              "      <td>0.958483</td>\n",
              "      <td>0.953092</td>\n",
              "      <td>0.202369</td>\n",
              "      <td>0.722762</td>\n",
              "      <td>-0.954043</td>\n",
              "    </tr>\n",
              "    <tr>\n",
              "      <th>RUT</th>\n",
              "      <td>-0.068902</td>\n",
              "      <td>0.194736</td>\n",
              "      <td>-0.049570</td>\n",
              "      <td>0.907930</td>\n",
              "      <td>-0.043085</td>\n",
              "      <td>0.027839</td>\n",
              "      <td>-0.010359</td>\n",
              "      <td>0.856413</td>\n",
              "      <td>0.911026</td>\n",
              "      <td>1.000000</td>\n",
              "      <td>0.372117</td>\n",
              "      <td>0.014946</td>\n",
              "      <td>0.450260</td>\n",
              "      <td>0.072621</td>\n",
              "      <td>0.167650</td>\n",
              "      <td>0.446884</td>\n",
              "      <td>-0.025707</td>\n",
              "      <td>0.815800</td>\n",
              "      <td>0.969457</td>\n",
              "      <td>0.844431</td>\n",
              "      <td>0.910999</td>\n",
              "      <td>0.918054</td>\n",
              "      <td>0.879455</td>\n",
              "      <td>0.238114</td>\n",
              "      <td>0.738859</td>\n",
              "      <td>-0.905329</td>\n",
              "    </tr>\n",
              "    <tr>\n",
              "      <th>CL=F</th>\n",
              "      <td>-0.028408</td>\n",
              "      <td>0.112094</td>\n",
              "      <td>-0.006583</td>\n",
              "      <td>0.386989</td>\n",
              "      <td>0.042866</td>\n",
              "      <td>0.031078</td>\n",
              "      <td>0.131997</td>\n",
              "      <td>0.378364</td>\n",
              "      <td>0.332892</td>\n",
              "      <td>0.372117</td>\n",
              "      <td>1.000000</td>\n",
              "      <td>0.010754</td>\n",
              "      <td>0.341912</td>\n",
              "      <td>0.034122</td>\n",
              "      <td>0.180819</td>\n",
              "      <td>0.348747</td>\n",
              "      <td>-0.019842</td>\n",
              "      <td>0.299213</td>\n",
              "      <td>0.399008</td>\n",
              "      <td>0.306453</td>\n",
              "      <td>0.445644</td>\n",
              "      <td>0.389729</td>\n",
              "      <td>0.333930</td>\n",
              "      <td>0.258474</td>\n",
              "      <td>0.508001</td>\n",
              "      <td>-0.383143</td>\n",
              "    </tr>\n",
              "    <tr>\n",
              "      <th>EURUSD=X</th>\n",
              "      <td>0.025977</td>\n",
              "      <td>0.029773</td>\n",
              "      <td>0.030096</td>\n",
              "      <td>0.019856</td>\n",
              "      <td>0.149443</td>\n",
              "      <td>-0.068802</td>\n",
              "      <td>0.049768</td>\n",
              "      <td>0.021002</td>\n",
              "      <td>0.028004</td>\n",
              "      <td>0.014946</td>\n",
              "      <td>0.010754</td>\n",
              "      <td>1.000000</td>\n",
              "      <td>0.022721</td>\n",
              "      <td>0.568882</td>\n",
              "      <td>0.012930</td>\n",
              "      <td>0.040033</td>\n",
              "      <td>0.091447</td>\n",
              "      <td>0.027112</td>\n",
              "      <td>0.027034</td>\n",
              "      <td>0.027758</td>\n",
              "      <td>0.036501</td>\n",
              "      <td>0.021159</td>\n",
              "      <td>0.026015</td>\n",
              "      <td>-0.007238</td>\n",
              "      <td>0.032505</td>\n",
              "      <td>-0.021759</td>\n",
              "    </tr>\n",
              "    <tr>\n",
              "      <th>TNX</th>\n",
              "      <td>-0.060351</td>\n",
              "      <td>0.163580</td>\n",
              "      <td>-0.010853</td>\n",
              "      <td>0.465141</td>\n",
              "      <td>0.024077</td>\n",
              "      <td>0.027215</td>\n",
              "      <td>-0.203132</td>\n",
              "      <td>0.466227</td>\n",
              "      <td>0.431087</td>\n",
              "      <td>0.450260</td>\n",
              "      <td>0.341912</td>\n",
              "      <td>0.022721</td>\n",
              "      <td>1.000000</td>\n",
              "      <td>0.045339</td>\n",
              "      <td>0.129639</td>\n",
              "      <td>0.953565</td>\n",
              "      <td>0.001605</td>\n",
              "      <td>0.388661</td>\n",
              "      <td>0.464607</td>\n",
              "      <td>0.400272</td>\n",
              "      <td>0.474802</td>\n",
              "      <td>0.466716</td>\n",
              "      <td>0.425576</td>\n",
              "      <td>-0.077755</td>\n",
              "      <td>0.352090</td>\n",
              "      <td>-0.461068</td>\n",
              "    </tr>\n",
              "    <tr>\n",
              "      <th>GBPUSD=X</th>\n",
              "      <td>0.017470</td>\n",
              "      <td>0.067216</td>\n",
              "      <td>0.001152</td>\n",
              "      <td>0.070850</td>\n",
              "      <td>0.183388</td>\n",
              "      <td>-0.021943</td>\n",
              "      <td>0.044328</td>\n",
              "      <td>0.069014</td>\n",
              "      <td>0.074454</td>\n",
              "      <td>0.072621</td>\n",
              "      <td>0.034122</td>\n",
              "      <td>0.568882</td>\n",
              "      <td>0.045339</td>\n",
              "      <td>1.000000</td>\n",
              "      <td>0.006125</td>\n",
              "      <td>0.052198</td>\n",
              "      <td>0.101818</td>\n",
              "      <td>0.072473</td>\n",
              "      <td>0.078439</td>\n",
              "      <td>0.072187</td>\n",
              "      <td>0.082803</td>\n",
              "      <td>0.071732</td>\n",
              "      <td>0.071415</td>\n",
              "      <td>0.015592</td>\n",
              "      <td>0.080218</td>\n",
              "      <td>-0.070922</td>\n",
              "    </tr>\n",
              "    <tr>\n",
              "      <th>S=F</th>\n",
              "      <td>0.013874</td>\n",
              "      <td>0.025516</td>\n",
              "      <td>0.011308</td>\n",
              "      <td>0.164811</td>\n",
              "      <td>0.018458</td>\n",
              "      <td>0.002098</td>\n",
              "      <td>0.103823</td>\n",
              "      <td>0.159673</td>\n",
              "      <td>0.165762</td>\n",
              "      <td>0.167650</td>\n",
              "      <td>0.180819</td>\n",
              "      <td>0.012930</td>\n",
              "      <td>0.129639</td>\n",
              "      <td>0.006125</td>\n",
              "      <td>1.000000</td>\n",
              "      <td>0.128757</td>\n",
              "      <td>0.001728</td>\n",
              "      <td>0.160014</td>\n",
              "      <td>0.171559</td>\n",
              "      <td>0.158843</td>\n",
              "      <td>0.182898</td>\n",
              "      <td>0.166455</td>\n",
              "      <td>0.163008</td>\n",
              "      <td>0.136793</td>\n",
              "      <td>0.189437</td>\n",
              "      <td>-0.162631</td>\n",
              "    </tr>\n",
              "    <tr>\n",
              "      <th>TYX</th>\n",
              "      <td>-0.054912</td>\n",
              "      <td>0.157201</td>\n",
              "      <td>0.013159</td>\n",
              "      <td>0.461543</td>\n",
              "      <td>0.033835</td>\n",
              "      <td>0.013057</td>\n",
              "      <td>-0.162932</td>\n",
              "      <td>0.461588</td>\n",
              "      <td>0.423310</td>\n",
              "      <td>0.446884</td>\n",
              "      <td>0.348747</td>\n",
              "      <td>0.040033</td>\n",
              "      <td>0.953565</td>\n",
              "      <td>0.052198</td>\n",
              "      <td>0.128757</td>\n",
              "      <td>1.000000</td>\n",
              "      <td>0.018436</td>\n",
              "      <td>0.380101</td>\n",
              "      <td>0.462160</td>\n",
              "      <td>0.392604</td>\n",
              "      <td>0.476155</td>\n",
              "      <td>0.463029</td>\n",
              "      <td>0.417826</td>\n",
              "      <td>-0.040608</td>\n",
              "      <td>0.364451</td>\n",
              "      <td>-0.458847</td>\n",
              "    </tr>\n",
              "    <tr>\n",
              "      <th>CNYUSD=X</th>\n",
              "      <td>0.009602</td>\n",
              "      <td>0.021019</td>\n",
              "      <td>0.017518</td>\n",
              "      <td>-0.016613</td>\n",
              "      <td>0.052459</td>\n",
              "      <td>0.024390</td>\n",
              "      <td>0.005390</td>\n",
              "      <td>-0.012976</td>\n",
              "      <td>-0.020670</td>\n",
              "      <td>-0.025707</td>\n",
              "      <td>-0.019842</td>\n",
              "      <td>0.091447</td>\n",
              "      <td>0.001605</td>\n",
              "      <td>0.101818</td>\n",
              "      <td>0.001728</td>\n",
              "      <td>0.018436</td>\n",
              "      <td>1.000000</td>\n",
              "      <td>-0.017097</td>\n",
              "      <td>-0.024279</td>\n",
              "      <td>-0.019549</td>\n",
              "      <td>-0.017369</td>\n",
              "      <td>-0.018210</td>\n",
              "      <td>-0.018620</td>\n",
              "      <td>-0.000322</td>\n",
              "      <td>0.004513</td>\n",
              "      <td>0.017260</td>\n",
              "    </tr>\n",
              "    <tr>\n",
              "      <th>IXCO</th>\n",
              "      <td>-0.069355</td>\n",
              "      <td>0.201296</td>\n",
              "      <td>-0.041904</td>\n",
              "      <td>0.893092</td>\n",
              "      <td>-0.029581</td>\n",
              "      <td>0.007041</td>\n",
              "      <td>-0.033899</td>\n",
              "      <td>0.840076</td>\n",
              "      <td>0.964247</td>\n",
              "      <td>0.815800</td>\n",
              "      <td>0.299213</td>\n",
              "      <td>0.027112</td>\n",
              "      <td>0.388661</td>\n",
              "      <td>0.072473</td>\n",
              "      <td>0.160014</td>\n",
              "      <td>0.380101</td>\n",
              "      <td>-0.017097</td>\n",
              "      <td>1.000000</td>\n",
              "      <td>0.830449</td>\n",
              "      <td>0.978809</td>\n",
              "      <td>0.826995</td>\n",
              "      <td>0.893241</td>\n",
              "      <td>0.912904</td>\n",
              "      <td>0.184681</td>\n",
              "      <td>0.664209</td>\n",
              "      <td>-0.892468</td>\n",
              "    </tr>\n",
              "    <tr>\n",
              "      <th>MID</th>\n",
              "      <td>-0.071853</td>\n",
              "      <td>0.204887</td>\n",
              "      <td>-0.047482</td>\n",
              "      <td>0.943720</td>\n",
              "      <td>-0.016108</td>\n",
              "      <td>0.025396</td>\n",
              "      <td>-0.018213</td>\n",
              "      <td>0.898953</td>\n",
              "      <td>0.919513</td>\n",
              "      <td>0.969457</td>\n",
              "      <td>0.399008</td>\n",
              "      <td>0.027034</td>\n",
              "      <td>0.464607</td>\n",
              "      <td>0.078439</td>\n",
              "      <td>0.171559</td>\n",
              "      <td>0.462160</td>\n",
              "      <td>-0.024279</td>\n",
              "      <td>0.830449</td>\n",
              "      <td>1.000000</td>\n",
              "      <td>0.863864</td>\n",
              "      <td>0.948995</td>\n",
              "      <td>0.953092</td>\n",
              "      <td>0.899638</td>\n",
              "      <td>0.244766</td>\n",
              "      <td>0.761930</td>\n",
              "      <td>-0.941085</td>\n",
              "    </tr>\n",
              "    <tr>\n",
              "      <th>NDX</th>\n",
              "      <td>-0.074760</td>\n",
              "      <td>0.202236</td>\n",
              "      <td>-0.049558</td>\n",
              "      <td>0.933379</td>\n",
              "      <td>-0.034675</td>\n",
              "      <td>0.016495</td>\n",
              "      <td>-0.040541</td>\n",
              "      <td>0.881022</td>\n",
              "      <td>0.987761</td>\n",
              "      <td>0.844431</td>\n",
              "      <td>0.306453</td>\n",
              "      <td>0.027758</td>\n",
              "      <td>0.400272</td>\n",
              "      <td>0.072187</td>\n",
              "      <td>0.158843</td>\n",
              "      <td>0.392604</td>\n",
              "      <td>-0.019549</td>\n",
              "      <td>0.978809</td>\n",
              "      <td>0.863864</td>\n",
              "      <td>1.000000</td>\n",
              "      <td>0.868706</td>\n",
              "      <td>0.933033</td>\n",
              "      <td>0.934812</td>\n",
              "      <td>0.186588</td>\n",
              "      <td>0.690816</td>\n",
              "      <td>-0.932509</td>\n",
              "    </tr>\n",
              "    <tr>\n",
              "      <th>NYA</th>\n",
              "      <td>-0.081332</td>\n",
              "      <td>0.210420</td>\n",
              "      <td>-0.052096</td>\n",
              "      <td>0.977193</td>\n",
              "      <td>-0.028323</td>\n",
              "      <td>0.020534</td>\n",
              "      <td>0.014180</td>\n",
              "      <td>0.953378</td>\n",
              "      <td>0.907388</td>\n",
              "      <td>0.910999</td>\n",
              "      <td>0.445644</td>\n",
              "      <td>0.036501</td>\n",
              "      <td>0.474802</td>\n",
              "      <td>0.082803</td>\n",
              "      <td>0.182898</td>\n",
              "      <td>0.476155</td>\n",
              "      <td>-0.017369</td>\n",
              "      <td>0.826995</td>\n",
              "      <td>0.948995</td>\n",
              "      <td>0.868706</td>\n",
              "      <td>1.000000</td>\n",
              "      <td>0.977568</td>\n",
              "      <td>0.892252</td>\n",
              "      <td>0.284649</td>\n",
              "      <td>0.812023</td>\n",
              "      <td>-0.974402</td>\n",
              "    </tr>\n",
              "    <tr>\n",
              "      <th>RUI</th>\n",
              "      <td>-0.081473</td>\n",
              "      <td>0.216246</td>\n",
              "      <td>-0.058481</td>\n",
              "      <td>0.998199</td>\n",
              "      <td>-0.039921</td>\n",
              "      <td>0.029974</td>\n",
              "      <td>-0.033595</td>\n",
              "      <td>0.968008</td>\n",
              "      <td>0.958483</td>\n",
              "      <td>0.918054</td>\n",
              "      <td>0.389729</td>\n",
              "      <td>0.021159</td>\n",
              "      <td>0.466716</td>\n",
              "      <td>0.071732</td>\n",
              "      <td>0.166455</td>\n",
              "      <td>0.463029</td>\n",
              "      <td>-0.018210</td>\n",
              "      <td>0.893241</td>\n",
              "      <td>0.953092</td>\n",
              "      <td>0.933033</td>\n",
              "      <td>0.977568</td>\n",
              "      <td>1.000000</td>\n",
              "      <td>0.930332</td>\n",
              "      <td>0.228266</td>\n",
              "      <td>0.769952</td>\n",
              "      <td>-0.995924</td>\n",
              "    </tr>\n",
              "    <tr>\n",
              "      <th>PSE</th>\n",
              "      <td>-0.066713</td>\n",
              "      <td>0.203568</td>\n",
              "      <td>-0.045333</td>\n",
              "      <td>0.927738</td>\n",
              "      <td>-0.029336</td>\n",
              "      <td>0.011923</td>\n",
              "      <td>-0.030610</td>\n",
              "      <td>0.887686</td>\n",
              "      <td>0.953092</td>\n",
              "      <td>0.879455</td>\n",
              "      <td>0.333930</td>\n",
              "      <td>0.026015</td>\n",
              "      <td>0.425576</td>\n",
              "      <td>0.071415</td>\n",
              "      <td>0.163008</td>\n",
              "      <td>0.417826</td>\n",
              "      <td>-0.018620</td>\n",
              "      <td>0.912904</td>\n",
              "      <td>0.899638</td>\n",
              "      <td>0.934812</td>\n",
              "      <td>0.892252</td>\n",
              "      <td>0.930332</td>\n",
              "      <td>1.000000</td>\n",
              "      <td>0.205373</td>\n",
              "      <td>0.702067</td>\n",
              "      <td>-0.926060</td>\n",
              "    </tr>\n",
              "    <tr>\n",
              "      <th>XAU</th>\n",
              "      <td>-0.013418</td>\n",
              "      <td>0.042046</td>\n",
              "      <td>0.000014</td>\n",
              "      <td>0.223671</td>\n",
              "      <td>0.027312</td>\n",
              "      <td>0.019662</td>\n",
              "      <td>0.605464</td>\n",
              "      <td>0.194519</td>\n",
              "      <td>0.202369</td>\n",
              "      <td>0.238114</td>\n",
              "      <td>0.258474</td>\n",
              "      <td>-0.007238</td>\n",
              "      <td>-0.077755</td>\n",
              "      <td>0.015592</td>\n",
              "      <td>0.136793</td>\n",
              "      <td>-0.040608</td>\n",
              "      <td>-0.000322</td>\n",
              "      <td>0.184681</td>\n",
              "      <td>0.244766</td>\n",
              "      <td>0.186588</td>\n",
              "      <td>0.284649</td>\n",
              "      <td>0.228266</td>\n",
              "      <td>0.205373</td>\n",
              "      <td>1.000000</td>\n",
              "      <td>0.410177</td>\n",
              "      <td>-0.221616</td>\n",
              "    </tr>\n",
              "    <tr>\n",
              "      <th>XAX</th>\n",
              "      <td>-0.041117</td>\n",
              "      <td>0.173948</td>\n",
              "      <td>-0.018282</td>\n",
              "      <td>0.767246</td>\n",
              "      <td>0.004940</td>\n",
              "      <td>0.031225</td>\n",
              "      <td>0.166687</td>\n",
              "      <td>0.740905</td>\n",
              "      <td>0.722762</td>\n",
              "      <td>0.738859</td>\n",
              "      <td>0.508001</td>\n",
              "      <td>0.032505</td>\n",
              "      <td>0.352090</td>\n",
              "      <td>0.080218</td>\n",
              "      <td>0.189437</td>\n",
              "      <td>0.364451</td>\n",
              "      <td>0.004513</td>\n",
              "      <td>0.664209</td>\n",
              "      <td>0.761930</td>\n",
              "      <td>0.690816</td>\n",
              "      <td>0.812023</td>\n",
              "      <td>0.769952</td>\n",
              "      <td>0.702067</td>\n",
              "      <td>0.410177</td>\n",
              "      <td>1.000000</td>\n",
              "      <td>-0.763849</td>\n",
              "    </tr>\n",
              "    <tr>\n",
              "      <th>SDS</th>\n",
              "      <td>0.079159</td>\n",
              "      <td>-0.204069</td>\n",
              "      <td>0.056205</td>\n",
              "      <td>-0.997858</td>\n",
              "      <td>0.046697</td>\n",
              "      <td>-0.024361</td>\n",
              "      <td>0.034961</td>\n",
              "      <td>-0.970846</td>\n",
              "      <td>-0.954043</td>\n",
              "      <td>-0.905329</td>\n",
              "      <td>-0.383143</td>\n",
              "      <td>-0.021759</td>\n",
              "      <td>-0.461068</td>\n",
              "      <td>-0.070922</td>\n",
              "      <td>-0.162631</td>\n",
              "      <td>-0.458847</td>\n",
              "      <td>0.017260</td>\n",
              "      <td>-0.892468</td>\n",
              "      <td>-0.941085</td>\n",
              "      <td>-0.932509</td>\n",
              "      <td>-0.974402</td>\n",
              "      <td>-0.995924</td>\n",
              "      <td>-0.926060</td>\n",
              "      <td>-0.221616</td>\n",
              "      <td>-0.763849</td>\n",
              "      <td>1.000000</td>\n",
              "    </tr>\n",
              "  </tbody>\n",
              "</table>\n",
              "</div>"
            ],
            "text/plain": [
              "             REGIME    MAmean      GSPC  ...       XAU       XAX       SDS\n",
              "REGIME     1.000000  0.020652  0.802092  ... -0.013418 -0.041117  0.079159\n",
              "MAmean     0.020652  1.000000  0.241378  ...  0.042046  0.173948 -0.204069\n",
              "GSPC       0.802092  0.241378  1.000000  ...  0.000014 -0.018282  0.056205\n",
              "GSPC_lag1 -0.082890  0.215323 -0.060564  ...  0.223671  0.767246 -0.997858\n",
              "GSPC_lag2 -0.032706  0.208687  0.026231  ...  0.027312  0.004940  0.046697\n",
              "GSPC_lag3 -0.046149  0.182919 -0.047778  ...  0.019662  0.031225 -0.024361\n",
              "GC=F      -0.004761 -0.021200 -0.002999  ...  0.605464  0.166687  0.034961\n",
              "DJI       -0.086597  0.213466 -0.069510  ...  0.194519  0.740905 -0.970846\n",
              "IXIC      -0.073751  0.210230 -0.048282  ...  0.202369  0.722762 -0.954043\n",
              "RUT       -0.068902  0.194736 -0.049570  ...  0.238114  0.738859 -0.905329\n",
              "CL=F      -0.028408  0.112094 -0.006583  ...  0.258474  0.508001 -0.383143\n",
              "EURUSD=X   0.025977  0.029773  0.030096  ... -0.007238  0.032505 -0.021759\n",
              "TNX       -0.060351  0.163580 -0.010853  ... -0.077755  0.352090 -0.461068\n",
              "GBPUSD=X   0.017470  0.067216  0.001152  ...  0.015592  0.080218 -0.070922\n",
              "S=F        0.013874  0.025516  0.011308  ...  0.136793  0.189437 -0.162631\n",
              "TYX       -0.054912  0.157201  0.013159  ... -0.040608  0.364451 -0.458847\n",
              "CNYUSD=X   0.009602  0.021019  0.017518  ... -0.000322  0.004513  0.017260\n",
              "IXCO      -0.069355  0.201296 -0.041904  ...  0.184681  0.664209 -0.892468\n",
              "MID       -0.071853  0.204887 -0.047482  ...  0.244766  0.761930 -0.941085\n",
              "NDX       -0.074760  0.202236 -0.049558  ...  0.186588  0.690816 -0.932509\n",
              "NYA       -0.081332  0.210420 -0.052096  ...  0.284649  0.812023 -0.974402\n",
              "RUI       -0.081473  0.216246 -0.058481  ...  0.228266  0.769952 -0.995924\n",
              "PSE       -0.066713  0.203568 -0.045333  ...  0.205373  0.702067 -0.926060\n",
              "XAU       -0.013418  0.042046  0.000014  ...  1.000000  0.410177 -0.221616\n",
              "XAX       -0.041117  0.173948 -0.018282  ...  0.410177  1.000000 -0.763849\n",
              "SDS        0.079159 -0.204069  0.056205  ... -0.221616 -0.763849  1.000000\n",
              "\n",
              "[26 rows x 26 columns]"
            ]
          },
          "metadata": {
            "tags": []
          },
          "execution_count": 64
        }
      ]
    },
    {
      "cell_type": "code",
      "metadata": {
        "id": "1jfZsmFWY6wD",
        "colab_type": "code",
        "colab": {
          "base_uri": "https://localhost:8080/",
          "height": 875
        },
        "outputId": "ae7ce613-1217-4141-e361-baac573707f0"
      },
      "source": [
        "scor"
      ],
      "execution_count": null,
      "outputs": [
        {
          "output_type": "execute_result",
          "data": {
            "text/html": [
              "<div>\n",
              "<style scoped>\n",
              "    .dataframe tbody tr th:only-of-type {\n",
              "        vertical-align: middle;\n",
              "    }\n",
              "\n",
              "    .dataframe tbody tr th {\n",
              "        vertical-align: top;\n",
              "    }\n",
              "\n",
              "    .dataframe thead th {\n",
              "        text-align: right;\n",
              "    }\n",
              "</style>\n",
              "<table border=\"1\" class=\"dataframe\">\n",
              "  <thead>\n",
              "    <tr style=\"text-align: right;\">\n",
              "      <th></th>\n",
              "      <th>REGIME</th>\n",
              "      <th>MAmean</th>\n",
              "      <th>GSPC</th>\n",
              "      <th>GSPC_lag1</th>\n",
              "      <th>GSPC_lag2</th>\n",
              "      <th>GSPC_lag3</th>\n",
              "      <th>GC=F</th>\n",
              "      <th>DJI</th>\n",
              "      <th>IXIC</th>\n",
              "      <th>RUT</th>\n",
              "      <th>CL=F</th>\n",
              "      <th>EURUSD=X</th>\n",
              "      <th>TNX</th>\n",
              "      <th>GBPUSD=X</th>\n",
              "      <th>S=F</th>\n",
              "      <th>TYX</th>\n",
              "      <th>CNYUSD=X</th>\n",
              "      <th>IXCO</th>\n",
              "      <th>MID</th>\n",
              "      <th>NDX</th>\n",
              "      <th>NYA</th>\n",
              "      <th>RUI</th>\n",
              "      <th>PSE</th>\n",
              "      <th>XAU</th>\n",
              "      <th>XAX</th>\n",
              "      <th>SDS</th>\n",
              "    </tr>\n",
              "  </thead>\n",
              "  <tbody>\n",
              "    <tr>\n",
              "      <th>REGIME</th>\n",
              "      <td>1.000000</td>\n",
              "      <td>0.008228</td>\n",
              "      <td>0.931079</td>\n",
              "      <td>-0.076895</td>\n",
              "      <td>-0.036989</td>\n",
              "      <td>-0.036393</td>\n",
              "      <td>0.009557</td>\n",
              "      <td>-0.081082</td>\n",
              "      <td>-0.070791</td>\n",
              "      <td>-0.056438</td>\n",
              "      <td>-0.021897</td>\n",
              "      <td>0.032713</td>\n",
              "      <td>-0.052627</td>\n",
              "      <td>0.017399</td>\n",
              "      <td>0.011773</td>\n",
              "      <td>-0.050857</td>\n",
              "      <td>-0.001348</td>\n",
              "      <td>-0.070858</td>\n",
              "      <td>-0.059151</td>\n",
              "      <td>-0.075713</td>\n",
              "      <td>-0.071563</td>\n",
              "      <td>-0.074652</td>\n",
              "      <td>-0.059320</td>\n",
              "      <td>-0.009745</td>\n",
              "      <td>-0.033699</td>\n",
              "      <td>0.075094</td>\n",
              "    </tr>\n",
              "    <tr>\n",
              "      <th>MAmean</th>\n",
              "      <td>0.008228</td>\n",
              "      <td>1.000000</td>\n",
              "      <td>0.180946</td>\n",
              "      <td>0.169507</td>\n",
              "      <td>0.167698</td>\n",
              "      <td>0.165152</td>\n",
              "      <td>-0.015935</td>\n",
              "      <td>0.172297</td>\n",
              "      <td>0.162421</td>\n",
              "      <td>0.140581</td>\n",
              "      <td>0.074859</td>\n",
              "      <td>0.025645</td>\n",
              "      <td>0.116956</td>\n",
              "      <td>0.058880</td>\n",
              "      <td>0.022339</td>\n",
              "      <td>0.108316</td>\n",
              "      <td>0.061241</td>\n",
              "      <td>0.164431</td>\n",
              "      <td>0.151094</td>\n",
              "      <td>0.160068</td>\n",
              "      <td>0.160414</td>\n",
              "      <td>0.169724</td>\n",
              "      <td>0.166097</td>\n",
              "      <td>0.034688</td>\n",
              "      <td>0.134656</td>\n",
              "      <td>-0.169675</td>\n",
              "    </tr>\n",
              "    <tr>\n",
              "      <th>GSPC</th>\n",
              "      <td>0.931079</td>\n",
              "      <td>0.180946</td>\n",
              "      <td>1.000000</td>\n",
              "      <td>-0.038159</td>\n",
              "      <td>-0.012100</td>\n",
              "      <td>-0.003952</td>\n",
              "      <td>0.007695</td>\n",
              "      <td>-0.042859</td>\n",
              "      <td>-0.038497</td>\n",
              "      <td>-0.028485</td>\n",
              "      <td>-0.001701</td>\n",
              "      <td>0.040252</td>\n",
              "      <td>-0.025713</td>\n",
              "      <td>0.025901</td>\n",
              "      <td>0.011175</td>\n",
              "      <td>-0.022193</td>\n",
              "      <td>0.010935</td>\n",
              "      <td>-0.038522</td>\n",
              "      <td>-0.025910</td>\n",
              "      <td>-0.043052</td>\n",
              "      <td>-0.031646</td>\n",
              "      <td>-0.036512</td>\n",
              "      <td>-0.028552</td>\n",
              "      <td>0.004838</td>\n",
              "      <td>-0.004304</td>\n",
              "      <td>0.036031</td>\n",
              "    </tr>\n",
              "    <tr>\n",
              "      <th>GSPC_lag1</th>\n",
              "      <td>-0.076895</td>\n",
              "      <td>0.169507</td>\n",
              "      <td>-0.038159</td>\n",
              "      <td>1.000000</td>\n",
              "      <td>-0.037011</td>\n",
              "      <td>-0.011006</td>\n",
              "      <td>-0.027757</td>\n",
              "      <td>0.948396</td>\n",
              "      <td>0.926330</td>\n",
              "      <td>0.869513</td>\n",
              "      <td>0.348473</td>\n",
              "      <td>0.030292</td>\n",
              "      <td>0.418851</td>\n",
              "      <td>0.065080</td>\n",
              "      <td>0.152351</td>\n",
              "      <td>0.410719</td>\n",
              "      <td>0.027889</td>\n",
              "      <td>0.846456</td>\n",
              "      <td>0.910897</td>\n",
              "      <td>0.896671</td>\n",
              "      <td>0.967220</td>\n",
              "      <td>0.996469</td>\n",
              "      <td>0.904461</td>\n",
              "      <td>0.197730</td>\n",
              "      <td>0.695377</td>\n",
              "      <td>-0.996803</td>\n",
              "    </tr>\n",
              "    <tr>\n",
              "      <th>GSPC_lag2</th>\n",
              "      <td>-0.036989</td>\n",
              "      <td>0.167698</td>\n",
              "      <td>-0.012100</td>\n",
              "      <td>-0.037011</td>\n",
              "      <td>1.000000</td>\n",
              "      <td>-0.038147</td>\n",
              "      <td>0.021733</td>\n",
              "      <td>-0.030123</td>\n",
              "      <td>-0.018523</td>\n",
              "      <td>-0.042579</td>\n",
              "      <td>0.015352</td>\n",
              "      <td>0.117634</td>\n",
              "      <td>-0.016982</td>\n",
              "      <td>0.160955</td>\n",
              "      <td>0.026640</td>\n",
              "      <td>-0.016365</td>\n",
              "      <td>0.058018</td>\n",
              "      <td>-0.008172</td>\n",
              "      <td>-0.020470</td>\n",
              "      <td>-0.014176</td>\n",
              "      <td>-0.033054</td>\n",
              "      <td>-0.033449</td>\n",
              "      <td>-0.024210</td>\n",
              "      <td>0.014504</td>\n",
              "      <td>0.000178</td>\n",
              "      <td>0.030888</td>\n",
              "    </tr>\n",
              "    <tr>\n",
              "      <th>GSPC_lag3</th>\n",
              "      <td>-0.036393</td>\n",
              "      <td>0.165152</td>\n",
              "      <td>-0.003952</td>\n",
              "      <td>-0.011006</td>\n",
              "      <td>-0.038147</td>\n",
              "      <td>1.000000</td>\n",
              "      <td>-0.008766</td>\n",
              "      <td>0.009346</td>\n",
              "      <td>-0.009448</td>\n",
              "      <td>-0.006125</td>\n",
              "      <td>0.005291</td>\n",
              "      <td>-0.045703</td>\n",
              "      <td>0.021645</td>\n",
              "      <td>-0.022286</td>\n",
              "      <td>0.014859</td>\n",
              "      <td>0.013986</td>\n",
              "      <td>0.072511</td>\n",
              "      <td>-0.018636</td>\n",
              "      <td>-0.016716</td>\n",
              "      <td>-0.007974</td>\n",
              "      <td>-0.019240</td>\n",
              "      <td>-0.011370</td>\n",
              "      <td>-0.015790</td>\n",
              "      <td>-0.008727</td>\n",
              "      <td>-0.013574</td>\n",
              "      <td>0.009559</td>\n",
              "    </tr>\n",
              "    <tr>\n",
              "      <th>GC=F</th>\n",
              "      <td>0.009557</td>\n",
              "      <td>-0.015935</td>\n",
              "      <td>0.007695</td>\n",
              "      <td>-0.027757</td>\n",
              "      <td>0.021733</td>\n",
              "      <td>-0.008766</td>\n",
              "      <td>1.000000</td>\n",
              "      <td>-0.047237</td>\n",
              "      <td>-0.033269</td>\n",
              "      <td>-0.010813</td>\n",
              "      <td>0.147350</td>\n",
              "      <td>0.009880</td>\n",
              "      <td>-0.226491</td>\n",
              "      <td>0.019897</td>\n",
              "      <td>0.100133</td>\n",
              "      <td>-0.192753</td>\n",
              "      <td>-0.024320</td>\n",
              "      <td>-0.030825</td>\n",
              "      <td>-0.019760</td>\n",
              "      <td>-0.040915</td>\n",
              "      <td>0.017895</td>\n",
              "      <td>-0.026140</td>\n",
              "      <td>-0.036207</td>\n",
              "      <td>0.605314</td>\n",
              "      <td>0.173340</td>\n",
              "      <td>0.027287</td>\n",
              "    </tr>\n",
              "    <tr>\n",
              "      <th>DJI</th>\n",
              "      <td>-0.081082</td>\n",
              "      <td>0.172297</td>\n",
              "      <td>-0.042859</td>\n",
              "      <td>0.948396</td>\n",
              "      <td>-0.030123</td>\n",
              "      <td>0.009346</td>\n",
              "      <td>-0.047237</td>\n",
              "      <td>1.000000</td>\n",
              "      <td>0.830270</td>\n",
              "      <td>0.795977</td>\n",
              "      <td>0.334894</td>\n",
              "      <td>0.035970</td>\n",
              "      <td>0.426910</td>\n",
              "      <td>0.065605</td>\n",
              "      <td>0.149071</td>\n",
              "      <td>0.420668</td>\n",
              "      <td>0.035939</td>\n",
              "      <td>0.758324</td>\n",
              "      <td>0.843778</td>\n",
              "      <td>0.804495</td>\n",
              "      <td>0.933008</td>\n",
              "      <td>0.939732</td>\n",
              "      <td>0.835011</td>\n",
              "      <td>0.161846</td>\n",
              "      <td>0.659204</td>\n",
              "      <td>-0.944999</td>\n",
              "    </tr>\n",
              "    <tr>\n",
              "      <th>IXIC</th>\n",
              "      <td>-0.070791</td>\n",
              "      <td>0.162421</td>\n",
              "      <td>-0.038497</td>\n",
              "      <td>0.926330</td>\n",
              "      <td>-0.018523</td>\n",
              "      <td>-0.009448</td>\n",
              "      <td>-0.033269</td>\n",
              "      <td>0.830270</td>\n",
              "      <td>1.000000</td>\n",
              "      <td>0.878679</td>\n",
              "      <td>0.293387</td>\n",
              "      <td>0.035943</td>\n",
              "      <td>0.385311</td>\n",
              "      <td>0.062415</td>\n",
              "      <td>0.145971</td>\n",
              "      <td>0.371767</td>\n",
              "      <td>0.023550</td>\n",
              "      <td>0.947014</td>\n",
              "      <td>0.877513</td>\n",
              "      <td>0.981121</td>\n",
              "      <td>0.856349</td>\n",
              "      <td>0.931857</td>\n",
              "      <td>0.942398</td>\n",
              "      <td>0.184285</td>\n",
              "      <td>0.643929</td>\n",
              "      <td>-0.924827</td>\n",
              "    </tr>\n",
              "    <tr>\n",
              "      <th>RUT</th>\n",
              "      <td>-0.056438</td>\n",
              "      <td>0.140581</td>\n",
              "      <td>-0.028485</td>\n",
              "      <td>0.869513</td>\n",
              "      <td>-0.042579</td>\n",
              "      <td>-0.006125</td>\n",
              "      <td>-0.010813</td>\n",
              "      <td>0.795977</td>\n",
              "      <td>0.878679</td>\n",
              "      <td>1.000000</td>\n",
              "      <td>0.344636</td>\n",
              "      <td>0.031714</td>\n",
              "      <td>0.395760</td>\n",
              "      <td>0.065754</td>\n",
              "      <td>0.153159</td>\n",
              "      <td>0.387480</td>\n",
              "      <td>0.013108</td>\n",
              "      <td>0.762432</td>\n",
              "      <td>0.955941</td>\n",
              "      <td>0.791931</td>\n",
              "      <td>0.871910</td>\n",
              "      <td>0.885031</td>\n",
              "      <td>0.850741</td>\n",
              "      <td>0.210016</td>\n",
              "      <td>0.667482</td>\n",
              "      <td>-0.867190</td>\n",
              "    </tr>\n",
              "    <tr>\n",
              "      <th>CL=F</th>\n",
              "      <td>-0.021897</td>\n",
              "      <td>0.074859</td>\n",
              "      <td>-0.001701</td>\n",
              "      <td>0.348473</td>\n",
              "      <td>0.015352</td>\n",
              "      <td>0.005291</td>\n",
              "      <td>0.147350</td>\n",
              "      <td>0.334894</td>\n",
              "      <td>0.293387</td>\n",
              "      <td>0.344636</td>\n",
              "      <td>1.000000</td>\n",
              "      <td>0.035482</td>\n",
              "      <td>0.251731</td>\n",
              "      <td>0.049158</td>\n",
              "      <td>0.185760</td>\n",
              "      <td>0.260666</td>\n",
              "      <td>-0.011540</td>\n",
              "      <td>0.269833</td>\n",
              "      <td>0.356011</td>\n",
              "      <td>0.268120</td>\n",
              "      <td>0.404324</td>\n",
              "      <td>0.349943</td>\n",
              "      <td>0.295523</td>\n",
              "      <td>0.239834</td>\n",
              "      <td>0.464402</td>\n",
              "      <td>-0.346488</td>\n",
              "    </tr>\n",
              "    <tr>\n",
              "      <th>EURUSD=X</th>\n",
              "      <td>0.032713</td>\n",
              "      <td>0.025645</td>\n",
              "      <td>0.040252</td>\n",
              "      <td>0.030292</td>\n",
              "      <td>0.117634</td>\n",
              "      <td>-0.045703</td>\n",
              "      <td>0.009880</td>\n",
              "      <td>0.035970</td>\n",
              "      <td>0.035943</td>\n",
              "      <td>0.031714</td>\n",
              "      <td>0.035482</td>\n",
              "      <td>1.000000</td>\n",
              "      <td>0.047934</td>\n",
              "      <td>0.568037</td>\n",
              "      <td>0.018303</td>\n",
              "      <td>0.058583</td>\n",
              "      <td>0.174892</td>\n",
              "      <td>0.028712</td>\n",
              "      <td>0.043201</td>\n",
              "      <td>0.032356</td>\n",
              "      <td>0.035105</td>\n",
              "      <td>0.031217</td>\n",
              "      <td>0.031461</td>\n",
              "      <td>-0.022106</td>\n",
              "      <td>0.045100</td>\n",
              "      <td>-0.030590</td>\n",
              "    </tr>\n",
              "    <tr>\n",
              "      <th>TNX</th>\n",
              "      <td>-0.052627</td>\n",
              "      <td>0.116956</td>\n",
              "      <td>-0.025713</td>\n",
              "      <td>0.418851</td>\n",
              "      <td>-0.016982</td>\n",
              "      <td>0.021645</td>\n",
              "      <td>-0.226491</td>\n",
              "      <td>0.426910</td>\n",
              "      <td>0.385311</td>\n",
              "      <td>0.395760</td>\n",
              "      <td>0.251731</td>\n",
              "      <td>0.047934</td>\n",
              "      <td>1.000000</td>\n",
              "      <td>0.044263</td>\n",
              "      <td>0.115537</td>\n",
              "      <td>0.945153</td>\n",
              "      <td>0.017607</td>\n",
              "      <td>0.355633</td>\n",
              "      <td>0.403189</td>\n",
              "      <td>0.359542</td>\n",
              "      <td>0.414059</td>\n",
              "      <td>0.418671</td>\n",
              "      <td>0.382517</td>\n",
              "      <td>-0.117615</td>\n",
              "      <td>0.262713</td>\n",
              "      <td>-0.420185</td>\n",
              "    </tr>\n",
              "    <tr>\n",
              "      <th>GBPUSD=X</th>\n",
              "      <td>0.017399</td>\n",
              "      <td>0.058880</td>\n",
              "      <td>0.025901</td>\n",
              "      <td>0.065080</td>\n",
              "      <td>0.160955</td>\n",
              "      <td>-0.022286</td>\n",
              "      <td>0.019897</td>\n",
              "      <td>0.065605</td>\n",
              "      <td>0.062415</td>\n",
              "      <td>0.065754</td>\n",
              "      <td>0.049158</td>\n",
              "      <td>0.568037</td>\n",
              "      <td>0.044263</td>\n",
              "      <td>1.000000</td>\n",
              "      <td>0.029080</td>\n",
              "      <td>0.051524</td>\n",
              "      <td>0.150611</td>\n",
              "      <td>0.059742</td>\n",
              "      <td>0.078868</td>\n",
              "      <td>0.059071</td>\n",
              "      <td>0.074381</td>\n",
              "      <td>0.066488</td>\n",
              "      <td>0.065424</td>\n",
              "      <td>0.000560</td>\n",
              "      <td>0.089345</td>\n",
              "      <td>-0.065054</td>\n",
              "    </tr>\n",
              "    <tr>\n",
              "      <th>S=F</th>\n",
              "      <td>0.011773</td>\n",
              "      <td>0.022339</td>\n",
              "      <td>0.011175</td>\n",
              "      <td>0.152351</td>\n",
              "      <td>0.026640</td>\n",
              "      <td>0.014859</td>\n",
              "      <td>0.100133</td>\n",
              "      <td>0.149071</td>\n",
              "      <td>0.145971</td>\n",
              "      <td>0.153159</td>\n",
              "      <td>0.185760</td>\n",
              "      <td>0.018303</td>\n",
              "      <td>0.115537</td>\n",
              "      <td>0.029080</td>\n",
              "      <td>1.000000</td>\n",
              "      <td>0.116719</td>\n",
              "      <td>-0.011953</td>\n",
              "      <td>0.144993</td>\n",
              "      <td>0.156465</td>\n",
              "      <td>0.140696</td>\n",
              "      <td>0.173844</td>\n",
              "      <td>0.152768</td>\n",
              "      <td>0.138173</td>\n",
              "      <td>0.142863</td>\n",
              "      <td>0.181011</td>\n",
              "      <td>-0.150596</td>\n",
              "    </tr>\n",
              "    <tr>\n",
              "      <th>TYX</th>\n",
              "      <td>-0.050857</td>\n",
              "      <td>0.108316</td>\n",
              "      <td>-0.022193</td>\n",
              "      <td>0.410719</td>\n",
              "      <td>-0.016365</td>\n",
              "      <td>0.013986</td>\n",
              "      <td>-0.192753</td>\n",
              "      <td>0.420668</td>\n",
              "      <td>0.371767</td>\n",
              "      <td>0.387480</td>\n",
              "      <td>0.260666</td>\n",
              "      <td>0.058583</td>\n",
              "      <td>0.945153</td>\n",
              "      <td>0.051524</td>\n",
              "      <td>0.116719</td>\n",
              "      <td>1.000000</td>\n",
              "      <td>0.021688</td>\n",
              "      <td>0.342633</td>\n",
              "      <td>0.397003</td>\n",
              "      <td>0.346729</td>\n",
              "      <td>0.411578</td>\n",
              "      <td>0.410346</td>\n",
              "      <td>0.371226</td>\n",
              "      <td>-0.092212</td>\n",
              "      <td>0.273559</td>\n",
              "      <td>-0.411740</td>\n",
              "    </tr>\n",
              "    <tr>\n",
              "      <th>CNYUSD=X</th>\n",
              "      <td>-0.001348</td>\n",
              "      <td>0.061241</td>\n",
              "      <td>0.010935</td>\n",
              "      <td>0.027889</td>\n",
              "      <td>0.058018</td>\n",
              "      <td>0.072511</td>\n",
              "      <td>-0.024320</td>\n",
              "      <td>0.035939</td>\n",
              "      <td>0.023550</td>\n",
              "      <td>0.013108</td>\n",
              "      <td>-0.011540</td>\n",
              "      <td>0.174892</td>\n",
              "      <td>0.017607</td>\n",
              "      <td>0.150611</td>\n",
              "      <td>-0.011953</td>\n",
              "      <td>0.021688</td>\n",
              "      <td>1.000000</td>\n",
              "      <td>0.020253</td>\n",
              "      <td>0.011427</td>\n",
              "      <td>0.021219</td>\n",
              "      <td>0.026434</td>\n",
              "      <td>0.027149</td>\n",
              "      <td>0.029573</td>\n",
              "      <td>-0.017952</td>\n",
              "      <td>0.029235</td>\n",
              "      <td>-0.025816</td>\n",
              "    </tr>\n",
              "    <tr>\n",
              "      <th>IXCO</th>\n",
              "      <td>-0.070858</td>\n",
              "      <td>0.164431</td>\n",
              "      <td>-0.038522</td>\n",
              "      <td>0.846456</td>\n",
              "      <td>-0.008172</td>\n",
              "      <td>-0.018636</td>\n",
              "      <td>-0.030825</td>\n",
              "      <td>0.758324</td>\n",
              "      <td>0.947014</td>\n",
              "      <td>0.762432</td>\n",
              "      <td>0.269833</td>\n",
              "      <td>0.028712</td>\n",
              "      <td>0.355633</td>\n",
              "      <td>0.059742</td>\n",
              "      <td>0.144993</td>\n",
              "      <td>0.342633</td>\n",
              "      <td>0.020253</td>\n",
              "      <td>1.000000</td>\n",
              "      <td>0.768669</td>\n",
              "      <td>0.965218</td>\n",
              "      <td>0.759154</td>\n",
              "      <td>0.847474</td>\n",
              "      <td>0.885761</td>\n",
              "      <td>0.171020</td>\n",
              "      <td>0.584402</td>\n",
              "      <td>-0.845848</td>\n",
              "    </tr>\n",
              "    <tr>\n",
              "      <th>MID</th>\n",
              "      <td>-0.059151</td>\n",
              "      <td>0.151094</td>\n",
              "      <td>-0.025910</td>\n",
              "      <td>0.910897</td>\n",
              "      <td>-0.020470</td>\n",
              "      <td>-0.016716</td>\n",
              "      <td>-0.019760</td>\n",
              "      <td>0.843778</td>\n",
              "      <td>0.877513</td>\n",
              "      <td>0.955941</td>\n",
              "      <td>0.356011</td>\n",
              "      <td>0.043201</td>\n",
              "      <td>0.403189</td>\n",
              "      <td>0.078868</td>\n",
              "      <td>0.156465</td>\n",
              "      <td>0.397003</td>\n",
              "      <td>0.011427</td>\n",
              "      <td>0.768669</td>\n",
              "      <td>1.000000</td>\n",
              "      <td>0.804154</td>\n",
              "      <td>0.918319</td>\n",
              "      <td>0.926057</td>\n",
              "      <td>0.869170</td>\n",
              "      <td>0.212117</td>\n",
              "      <td>0.682833</td>\n",
              "      <td>-0.908565</td>\n",
              "    </tr>\n",
              "    <tr>\n",
              "      <th>NDX</th>\n",
              "      <td>-0.075713</td>\n",
              "      <td>0.160068</td>\n",
              "      <td>-0.043052</td>\n",
              "      <td>0.896671</td>\n",
              "      <td>-0.014176</td>\n",
              "      <td>-0.007974</td>\n",
              "      <td>-0.040915</td>\n",
              "      <td>0.804495</td>\n",
              "      <td>0.981121</td>\n",
              "      <td>0.791931</td>\n",
              "      <td>0.268120</td>\n",
              "      <td>0.032356</td>\n",
              "      <td>0.359542</td>\n",
              "      <td>0.059071</td>\n",
              "      <td>0.140696</td>\n",
              "      <td>0.346729</td>\n",
              "      <td>0.021219</td>\n",
              "      <td>0.965218</td>\n",
              "      <td>0.804154</td>\n",
              "      <td>1.000000</td>\n",
              "      <td>0.807153</td>\n",
              "      <td>0.896911</td>\n",
              "      <td>0.915301</td>\n",
              "      <td>0.169472</td>\n",
              "      <td>0.610208</td>\n",
              "      <td>-0.895012</td>\n",
              "    </tr>\n",
              "    <tr>\n",
              "      <th>NYA</th>\n",
              "      <td>-0.071563</td>\n",
              "      <td>0.160414</td>\n",
              "      <td>-0.031646</td>\n",
              "      <td>0.967220</td>\n",
              "      <td>-0.033054</td>\n",
              "      <td>-0.019240</td>\n",
              "      <td>0.017895</td>\n",
              "      <td>0.933008</td>\n",
              "      <td>0.856349</td>\n",
              "      <td>0.871910</td>\n",
              "      <td>0.404324</td>\n",
              "      <td>0.035105</td>\n",
              "      <td>0.414059</td>\n",
              "      <td>0.074381</td>\n",
              "      <td>0.173844</td>\n",
              "      <td>0.411578</td>\n",
              "      <td>0.026434</td>\n",
              "      <td>0.759154</td>\n",
              "      <td>0.918319</td>\n",
              "      <td>0.807153</td>\n",
              "      <td>1.000000</td>\n",
              "      <td>0.966423</td>\n",
              "      <td>0.855698</td>\n",
              "      <td>0.255359</td>\n",
              "      <td>0.747397</td>\n",
              "      <td>-0.964443</td>\n",
              "    </tr>\n",
              "    <tr>\n",
              "      <th>RUI</th>\n",
              "      <td>-0.074652</td>\n",
              "      <td>0.169724</td>\n",
              "      <td>-0.036512</td>\n",
              "      <td>0.996469</td>\n",
              "      <td>-0.033449</td>\n",
              "      <td>-0.011370</td>\n",
              "      <td>-0.026140</td>\n",
              "      <td>0.939732</td>\n",
              "      <td>0.931857</td>\n",
              "      <td>0.885031</td>\n",
              "      <td>0.349943</td>\n",
              "      <td>0.031217</td>\n",
              "      <td>0.418671</td>\n",
              "      <td>0.066488</td>\n",
              "      <td>0.152768</td>\n",
              "      <td>0.410346</td>\n",
              "      <td>0.027149</td>\n",
              "      <td>0.847474</td>\n",
              "      <td>0.926057</td>\n",
              "      <td>0.896911</td>\n",
              "      <td>0.966423</td>\n",
              "      <td>1.000000</td>\n",
              "      <td>0.910476</td>\n",
              "      <td>0.202818</td>\n",
              "      <td>0.697795</td>\n",
              "      <td>-0.993418</td>\n",
              "    </tr>\n",
              "    <tr>\n",
              "      <th>PSE</th>\n",
              "      <td>-0.059320</td>\n",
              "      <td>0.166097</td>\n",
              "      <td>-0.028552</td>\n",
              "      <td>0.904461</td>\n",
              "      <td>-0.024210</td>\n",
              "      <td>-0.015790</td>\n",
              "      <td>-0.036207</td>\n",
              "      <td>0.835011</td>\n",
              "      <td>0.942398</td>\n",
              "      <td>0.850741</td>\n",
              "      <td>0.295523</td>\n",
              "      <td>0.031461</td>\n",
              "      <td>0.382517</td>\n",
              "      <td>0.065424</td>\n",
              "      <td>0.138173</td>\n",
              "      <td>0.371226</td>\n",
              "      <td>0.029573</td>\n",
              "      <td>0.885761</td>\n",
              "      <td>0.869170</td>\n",
              "      <td>0.915301</td>\n",
              "      <td>0.855698</td>\n",
              "      <td>0.910476</td>\n",
              "      <td>1.000000</td>\n",
              "      <td>0.182547</td>\n",
              "      <td>0.627073</td>\n",
              "      <td>-0.902878</td>\n",
              "    </tr>\n",
              "    <tr>\n",
              "      <th>XAU</th>\n",
              "      <td>-0.009745</td>\n",
              "      <td>0.034688</td>\n",
              "      <td>0.004838</td>\n",
              "      <td>0.197730</td>\n",
              "      <td>0.014504</td>\n",
              "      <td>-0.008727</td>\n",
              "      <td>0.605314</td>\n",
              "      <td>0.161846</td>\n",
              "      <td>0.184285</td>\n",
              "      <td>0.210016</td>\n",
              "      <td>0.239834</td>\n",
              "      <td>-0.022106</td>\n",
              "      <td>-0.117615</td>\n",
              "      <td>0.000560</td>\n",
              "      <td>0.142863</td>\n",
              "      <td>-0.092212</td>\n",
              "      <td>-0.017952</td>\n",
              "      <td>0.171020</td>\n",
              "      <td>0.212117</td>\n",
              "      <td>0.169472</td>\n",
              "      <td>0.255359</td>\n",
              "      <td>0.202818</td>\n",
              "      <td>0.182547</td>\n",
              "      <td>1.000000</td>\n",
              "      <td>0.395589</td>\n",
              "      <td>-0.195975</td>\n",
              "    </tr>\n",
              "    <tr>\n",
              "      <th>XAX</th>\n",
              "      <td>-0.033699</td>\n",
              "      <td>0.134656</td>\n",
              "      <td>-0.004304</td>\n",
              "      <td>0.695377</td>\n",
              "      <td>0.000178</td>\n",
              "      <td>-0.013574</td>\n",
              "      <td>0.173340</td>\n",
              "      <td>0.659204</td>\n",
              "      <td>0.643929</td>\n",
              "      <td>0.667482</td>\n",
              "      <td>0.464402</td>\n",
              "      <td>0.045100</td>\n",
              "      <td>0.262713</td>\n",
              "      <td>0.089345</td>\n",
              "      <td>0.181011</td>\n",
              "      <td>0.273559</td>\n",
              "      <td>0.029235</td>\n",
              "      <td>0.584402</td>\n",
              "      <td>0.682833</td>\n",
              "      <td>0.610208</td>\n",
              "      <td>0.747397</td>\n",
              "      <td>0.697795</td>\n",
              "      <td>0.627073</td>\n",
              "      <td>0.395589</td>\n",
              "      <td>1.000000</td>\n",
              "      <td>-0.694475</td>\n",
              "    </tr>\n",
              "    <tr>\n",
              "      <th>SDS</th>\n",
              "      <td>0.075094</td>\n",
              "      <td>-0.169675</td>\n",
              "      <td>0.036031</td>\n",
              "      <td>-0.996803</td>\n",
              "      <td>0.030888</td>\n",
              "      <td>0.009559</td>\n",
              "      <td>0.027287</td>\n",
              "      <td>-0.944999</td>\n",
              "      <td>-0.924827</td>\n",
              "      <td>-0.867190</td>\n",
              "      <td>-0.346488</td>\n",
              "      <td>-0.030590</td>\n",
              "      <td>-0.420185</td>\n",
              "      <td>-0.065054</td>\n",
              "      <td>-0.150596</td>\n",
              "      <td>-0.411740</td>\n",
              "      <td>-0.025816</td>\n",
              "      <td>-0.845848</td>\n",
              "      <td>-0.908565</td>\n",
              "      <td>-0.895012</td>\n",
              "      <td>-0.964443</td>\n",
              "      <td>-0.993418</td>\n",
              "      <td>-0.902878</td>\n",
              "      <td>-0.195975</td>\n",
              "      <td>-0.694475</td>\n",
              "      <td>1.000000</td>\n",
              "    </tr>\n",
              "  </tbody>\n",
              "</table>\n",
              "</div>"
            ],
            "text/plain": [
              "             REGIME    MAmean      GSPC  ...       XAU       XAX       SDS\n",
              "REGIME     1.000000  0.008228  0.931079  ... -0.009745 -0.033699  0.075094\n",
              "MAmean     0.008228  1.000000  0.180946  ...  0.034688  0.134656 -0.169675\n",
              "GSPC       0.931079  0.180946  1.000000  ...  0.004838 -0.004304  0.036031\n",
              "GSPC_lag1 -0.076895  0.169507 -0.038159  ...  0.197730  0.695377 -0.996803\n",
              "GSPC_lag2 -0.036989  0.167698 -0.012100  ...  0.014504  0.000178  0.030888\n",
              "GSPC_lag3 -0.036393  0.165152 -0.003952  ... -0.008727 -0.013574  0.009559\n",
              "GC=F       0.009557 -0.015935  0.007695  ...  0.605314  0.173340  0.027287\n",
              "DJI       -0.081082  0.172297 -0.042859  ...  0.161846  0.659204 -0.944999\n",
              "IXIC      -0.070791  0.162421 -0.038497  ...  0.184285  0.643929 -0.924827\n",
              "RUT       -0.056438  0.140581 -0.028485  ...  0.210016  0.667482 -0.867190\n",
              "CL=F      -0.021897  0.074859 -0.001701  ...  0.239834  0.464402 -0.346488\n",
              "EURUSD=X   0.032713  0.025645  0.040252  ... -0.022106  0.045100 -0.030590\n",
              "TNX       -0.052627  0.116956 -0.025713  ... -0.117615  0.262713 -0.420185\n",
              "GBPUSD=X   0.017399  0.058880  0.025901  ...  0.000560  0.089345 -0.065054\n",
              "S=F        0.011773  0.022339  0.011175  ...  0.142863  0.181011 -0.150596\n",
              "TYX       -0.050857  0.108316 -0.022193  ... -0.092212  0.273559 -0.411740\n",
              "CNYUSD=X  -0.001348  0.061241  0.010935  ... -0.017952  0.029235 -0.025816\n",
              "IXCO      -0.070858  0.164431 -0.038522  ...  0.171020  0.584402 -0.845848\n",
              "MID       -0.059151  0.151094 -0.025910  ...  0.212117  0.682833 -0.908565\n",
              "NDX       -0.075713  0.160068 -0.043052  ...  0.169472  0.610208 -0.895012\n",
              "NYA       -0.071563  0.160414 -0.031646  ...  0.255359  0.747397 -0.964443\n",
              "RUI       -0.074652  0.169724 -0.036512  ...  0.202818  0.697795 -0.993418\n",
              "PSE       -0.059320  0.166097 -0.028552  ...  0.182547  0.627073 -0.902878\n",
              "XAU       -0.009745  0.034688  0.004838  ...  1.000000  0.395589 -0.195975\n",
              "XAX       -0.033699  0.134656 -0.004304  ...  0.395589  1.000000 -0.694475\n",
              "SDS        0.075094 -0.169675  0.036031  ... -0.195975 -0.694475  1.000000\n",
              "\n",
              "[26 rows x 26 columns]"
            ]
          },
          "metadata": {
            "tags": []
          },
          "execution_count": 65
        }
      ]
    },
    {
      "cell_type": "code",
      "metadata": {
        "id": "dyJ-dJdkI1FT",
        "colab_type": "code",
        "colab": {}
      },
      "source": [
        "temp = np.array(data.iloc[2:len(data),7:10])\n",
        "temp[np.isnan(temp)] = 0\n",
        "pca = PCA(n_components = 3)\n",
        "PCA1 = pca.fit_transform(temp)[:,0]"
      ],
      "execution_count": null,
      "outputs": []
    },
    {
      "cell_type": "code",
      "metadata": {
        "id": "P4og-cAoI3Qg",
        "colab_type": "code",
        "colab": {
          "base_uri": "https://localhost:8080/",
          "height": 122
        },
        "outputId": "a912b2ac-dfaf-4997-cd86-7d5815d829ae"
      },
      "source": [
        "col_name = data.columns.tolist()\n",
        "col_name.insert(col_name.index('DJI'),'PCA1')\n",
        "data = data.reindex(columns=col_name)\n",
        "data.PCA1[2:len(data)] = PCA1"
      ],
      "execution_count": null,
      "outputs": [
        {
          "output_type": "stream",
          "text": [
            "/usr/local/lib/python3.6/dist-packages/ipykernel_launcher.py:4: SettingWithCopyWarning: \n",
            "A value is trying to be set on a copy of a slice from a DataFrame\n",
            "\n",
            "See the caveats in the documentation: https://pandas.pydata.org/pandas-docs/stable/user_guide/indexing.html#returning-a-view-versus-a-copy\n",
            "  after removing the cwd from sys.path.\n"
          ],
          "name": "stderr"
        }
      ]
    },
    {
      "cell_type": "code",
      "metadata": {
        "id": "8AfNB5CIJIXB",
        "colab_type": "code",
        "colab": {
          "base_uri": "https://localhost:8080/",
          "height": 136
        },
        "outputId": "a376fd7b-452d-4ba9-b15e-11723d9b34a0"
      },
      "source": [
        "pca.fit_transform(temp)"
      ],
      "execution_count": null,
      "outputs": [
        {
          "output_type": "execute_result",
          "data": {
            "text/plain": [
              "array([[ 0.00084522, -0.00120768,  0.00082916],\n",
              "       [ 0.00331003, -0.00259686,  0.00197969],\n",
              "       [-0.01027797,  0.00104867, -0.0006036 ],\n",
              "       ...,\n",
              "       [ 0.05915808,  0.00823817, -0.00595889],\n",
              "       [ 0.02961117, -0.00255311,  0.00352617],\n",
              "       [ 0.14801854,  0.00491424, -0.01466323]])"
            ]
          },
          "metadata": {
            "tags": []
          },
          "execution_count": 68
        }
      ]
    },
    {
      "cell_type": "code",
      "metadata": {
        "id": "r18Sb3R8BNmu",
        "colab_type": "code",
        "colab": {}
      },
      "source": [
        "Regime = data.REGIME[21:len(data)].reset_index(drop=True)\n",
        "GSPC = data.GSPC[21:len(data)].reset_index(drop=True)\n",
        "X = data.loc[21:len(data), ['GSPC_lag1', 'GSPC_lag2', 'GSPC_lag3', 'DJI', 'RUI']].reset_index(drop=True)"
      ],
      "execution_count": null,
      "outputs": []
    },
    {
      "cell_type": "code",
      "metadata": {
        "id": "PPV3in_5iH81",
        "colab_type": "code",
        "colab": {}
      },
      "source": [
        "Nlags = 3\n",
        "data_train, data_test = GetTrainAndTest(2/3, Regime, X)\n",
        "X_train, Y_train, X_test, Y_test = GetLags(data_train, data_test,Nlags)\n",
        "\n",
        "X_train, Y_train = OmitNAN(X_train, Y_train)\n",
        "Y_train -= 1\n",
        "X_test, Y_test = OmitNAN(X_test, Y_test)\n",
        "Y_test -= 1\n",
        "X_train, X_test = NormalizeFeatures(X_train, X_test)\n",
        "\n",
        "X_train, Y_train = DeleteOutlier(X_train, Y_train)\n",
        "X_test, Y_test = DeleteOutlier(X_test, Y_test)"
      ],
      "execution_count": null,
      "outputs": []
    },
    {
      "cell_type": "code",
      "metadata": {
        "id": "culMTHerGXHE",
        "colab_type": "code",
        "colab": {}
      },
      "source": [
        "device = torch.device('cuda' if torch.cuda.is_available() else 'cpu')\n",
        "device = torch.device('cpu')\n",
        "# data for train and test\n",
        "X_train_gpu = torch.from_numpy(X_train).float().to(device)\n",
        "X_test_gpu = torch.from_numpy(X_test).float().to(device)\n",
        "Y_train_gpu = torch.from_numpy(Y_train.values).long().to(device)\n",
        "Y_test_gpu = torch.from_numpy(Y_test.values).long().to(device)"
      ],
      "execution_count": null,
      "outputs": []
    },
    {
      "cell_type": "markdown",
      "metadata": {
        "id": "QHvLhijwxIk2",
        "colab_type": "text"
      },
      "source": [
        "# RNN with GRU \n"
      ]
    },
    {
      "cell_type": "code",
      "metadata": {
        "id": "O4Puq6A5xLSq",
        "colab_type": "code",
        "colab": {}
      },
      "source": [
        "def GetMiniBatchRandPerm(X, y, n):\n",
        "    idx = np.random.permutation(n)\n",
        "    return X[:,idx[0:n],:], y[idx[0:n]]\n",
        "\n",
        "class RegimeGRU(nn.Module):\n",
        "    def __init__(self, input_dim, hidden_dim, n_lags, batch_size, output_dim=1, num_layers=2):\n",
        "        super(RegimeGRU,self).__init__()\n",
        "        self.input_dim = input_dim # # of features\n",
        "        self.hidden_dim = hidden_dim\n",
        "        self.batch_size = batch_size\n",
        "        self.num_layers = num_layers\n",
        "        self.output_dim = output_dim\n",
        "        self.n_lags = n_lags\n",
        "        # Defeine the GRU layer\n",
        "        self.gru = nn.GRU(self.input_dim, self.hidden_dim, self.num_layers)\n",
        "        \n",
        "        # Define the output layer\n",
        "        self.fc = nn.Linear(self.hidden_dim, self.output_dim)\n",
        "        \n",
        "        self.hidden = self.init_hidden()\n",
        "        \n",
        "    def init_hidden(self):\n",
        "        # initialise hidden state\n",
        "        return (torch.zeros(self.num_layers, self.batch_size, self.hidden_dim).to(device))\n",
        "    \n",
        "    def forward(self,x):\n",
        "        self.batch_size = x.size(1)\n",
        "        self.hidden = self.init_hidden() # initialize hidden state\n",
        "        \n",
        "        with torch.no_grad():\n",
        "            gru_out, self.hidden = self.gru(x, self.hidden)\n",
        "        y_pred = self.fc(gru_out[-1])\n",
        "        return y_pred\n"
      ],
      "execution_count": null,
      "outputs": []
    },
    {
      "cell_type": "code",
      "metadata": {
        "id": "DJQYuMGdxUku",
        "colab_type": "code",
        "colab": {}
      },
      "source": [
        "def RunGRU(model, optimizer, criterion, num_epochs, BatchSize, X_train_gpu, Y_train_gpu, X_test_gpu, Y_test):\n",
        "    loss_hist = np.zeros(num_epochs) # record error of every epoch\n",
        "    model.hidden = model.init_hidden()\n",
        "\n",
        "    start_time = time.time()\n",
        "    for t in range(num_epochs):\n",
        "        X_gpu, Y_gpu = GetMiniBatchRandPerm(X_train_gpu, Y_train_gpu, BatchSize)\n",
        "    # reset hidden states\n",
        "        optimizer.zero_grad()\n",
        "    # forward\n",
        "        output = model(X_gpu)\n",
        "    # backward\n",
        "    \n",
        "        loss = criterion(output, Y_gpu)\n",
        "        loss.backward()\n",
        "\n",
        "    # optimize\n",
        "        optimizer.step()\n",
        "        loss_hist[t] = loss.item()\n",
        "\n",
        "    # print and restore loss\n",
        "        output = model(X_test_gpu)\n",
        "        ypred=np.argmax(output.detach().cpu().numpy(),1)\n",
        "        accuracy = sum(Y_test==ypred)/len(ypred)\n",
        "      \n",
        "        if (t+1)% 500 == 0:\n",
        "            print(\"Epoch:{:0>4d}, CrossEntropy:{:<10.9f}\".format(t,loss.item()))\n",
        "            print('============')\n",
        "        # plot loss so far\n",
        "            plt.plot(loss_hist[0:t])\n",
        "            plt.show()\n",
        "            end_time = time.time()\n",
        "\n",
        "        #print time of processing\n",
        "            print(end_time - start_time)\n",
        "            start_time = time.time()\n",
        "        # show the current prediction accuracy\n",
        "            output = model(X_test_gpu)\n",
        "            \n",
        "            print(accuracy) \n",
        "            \n",
        "    return  model, accuracy, ypred"
      ],
      "execution_count": null,
      "outputs": []
    },
    {
      "cell_type": "code",
      "metadata": {
        "id": "V3sTrg7LxmhZ",
        "colab_type": "code",
        "colab": {
          "base_uri": "https://localhost:8080/",
          "height": 1000
        },
        "outputId": "94e33221-a624-4496-9c68-d7da7281e798"
      },
      "source": [
        "BatchSize = 150\n",
        "# initialize the model\n",
        "#(self, input_dim, hidden_dim, n_lags, batch_size, output_dim=1, num_layers=2):\n",
        "model = RegimeGRU(input_dim = 5, hidden_dim = 3, n_lags = Nlags, batch_size = BatchSize, output_dim = 4, num_layers = 3).to(device)\n",
        "\n",
        "\n",
        "\n",
        "# define optimizer and loss function\n",
        "criterion = nn.CrossEntropyLoss()\n",
        "optimizer = optim.Adam(model.parameters(), lr=0.002)\n",
        "\n",
        "# training\n",
        "num_epochs = 5000\n",
        "model, accuracy, ypred= \\\n",
        "RunGRU(model, optimizer, criterion, num_epochs, BatchSize, X_train_gpu, Y_train_gpu, X_test_gpu, Y_test)"
      ],
      "execution_count": null,
      "outputs": [
        {
          "output_type": "stream",
          "text": [
            "Epoch:0499, CrossEntropy:1.364358068\n",
            "============\n"
          ],
          "name": "stdout"
        },
        {
          "output_type": "display_data",
          "data": {
            "image/png": "[encoded data removed]",
            "text/plain": [
              "<Figure size 432x288 with 1 Axes>"
            ]
          },
          "metadata": {
            "tags": []
          }
        },
        {
          "output_type": "stream",
          "text": [
            "2.4263858795166016\n",
            "0.36421319796954316\n",
            "Epoch:0999, CrossEntropy:1.363331437\n",
            "============\n"
          ],
          "name": "stdout"
        },
        {
          "output_type": "display_data",
          "data": {
            "image/png": "[encoded data removed]",
            "text/plain": [
              "<Figure size 432x288 with 1 Axes>"
            ]
          },
          "metadata": {
            "tags": []
          }
        },
        {
          "output_type": "stream",
          "text": [
            "2.447267532348633\n",
            "0.36548223350253806\n",
            "Epoch:1499, CrossEntropy:1.361926198\n",
            "============\n"
          ],
          "name": "stdout"
        },
        {
          "output_type": "display_data",
          "data": {
            "image/png": "[encoded data removed]",
            "text/plain": [
              "<Figure size 432x288 with 1 Axes>"
            ]
          },
          "metadata": {
            "tags": []
          }
        },
        {
          "output_type": "stream",
          "text": [
            "2.4941656589508057\n",
            "0.3730964467005076\n",
            "Epoch:1999, CrossEntropy:1.360205889\n",
            "============\n"
          ],
          "name": "stdout"
        },
        {
          "output_type": "display_data",
          "data": {
            "image/png": "[encoded data removed]",
            "text/plain": [
              "<Figure size 432x288 with 1 Axes>"
            ]
          },
          "metadata": {
            "tags": []
          }
        },
        {
          "output_type": "stream",
          "text": [
            "2.4684641361236572\n",
            "0.383248730964467\n",
            "Epoch:2499, CrossEntropy:1.358238697\n",
            "============\n"
          ],
          "name": "stdout"
        },
        {
          "output_type": "display_data",
          "data": {
            "image/png": "[encoded data removed]",
            "text/plain": [
              "<Figure size 432x288 with 1 Axes>"
            ]
          },
          "metadata": {
            "tags": []
          }
        },
        {
          "output_type": "stream",
          "text": [
            "2.484100818634033\n",
            "0.39213197969543145\n",
            "Epoch:2999, CrossEntropy:1.356102347\n",
            "============\n"
          ],
          "name": "stdout"
        },
        {
          "output_type": "display_data",
          "data": {
            "image/png": "[encoded data removed]",
            "text/plain": [
              "<Figure size 432x288 with 1 Axes>"
            ]
          },
          "metadata": {
            "tags": []
          }
        },
        {
          "output_type": "stream",
          "text": [
            "2.4812536239624023\n",
            "0.3883248730964467\n",
            "Epoch:3499, CrossEntropy:1.353883147\n",
            "============\n"
          ],
          "name": "stdout"
        },
        {
          "output_type": "display_data",
          "data": {
            "image/png": "[encoded data removed]",
            "text/plain": [
              "<Figure size 432x288 with 1 Axes>"
            ]
          },
          "metadata": {
            "tags": []
          }
        },
        {
          "output_type": "stream",
          "text": [
            "2.4467689990997314\n",
            "0.39086294416243655\n",
            "Epoch:3999, CrossEntropy:1.351664782\n",
            "============\n"
          ],
          "name": "stdout"
        },
        {
          "output_type": "display_data",
          "data": {
            "image/png": "[encoded data removed]",
            "text/plain": [
              "<Figure size 432x288 with 1 Axes>"
            ]
          },
          "metadata": {
            "tags": []
          }
        },
        {
          "output_type": "stream",
          "text": [
            "2.489062786102295\n",
            "0.39086294416243655\n",
            "Epoch:4499, CrossEntropy:1.349523067\n",
            "============\n"
          ],
          "name": "stdout"
        },
        {
          "output_type": "display_data",
          "data": {
            "image/png": "[encoded data removed]",
            "text/plain": [
              "<Figure size 432x288 with 1 Axes>"
            ]
          },
          "metadata": {
            "tags": []
          }
        },
        {
          "output_type": "stream",
          "text": [
            "2.471238851547241\n",
            "0.3895939086294416\n",
            "Epoch:4999, CrossEntropy:1.347516775\n",
            "============\n"
          ],
          "name": "stdout"
        },
        {
          "output_type": "display_data",
          "data": {
            "image/png": "[encoded data removed]",
            "text/plain": [
              "<Figure size 432x288 with 1 Axes>"
            ]
          },
          "metadata": {
            "tags": []
          }
        },
        {
          "output_type": "stream",
          "text": [
            "2.4307563304901123\n",
            "0.39213197969543145\n"
          ],
          "name": "stdout"
        }
      ]
    },
    {
      "cell_type": "markdown",
      "metadata": {
        "id": "L5S86UABQosA",
        "colab_type": "text"
      },
      "source": [
        "Confusion Matrix"
      ]
    },
    {
      "cell_type": "code",
      "metadata": {
        "id": "Z7eOq-YzlDoi",
        "colab_type": "code",
        "colab": {
          "base_uri": "https://localhost:8080/",
          "height": 85
        },
        "outputId": "ba493dc1-b26f-44d8-f7b3-a437b44fc538"
      },
      "source": [
        "from sklearn.metrics import confusion_matrix\n",
        "\n",
        "confusion_matrix(y_true = Y_test, y_pred = ypred)"
      ],
      "execution_count": null,
      "outputs": [
        {
          "output_type": "execute_result",
          "data": {
            "text/plain": [
              "array([[ 15,  93,   0,  26],\n",
              "       [ 13, 250,   0,  16],\n",
              "       [ 16, 184,   0,  20],\n",
              "       [ 10, 101,   0,  44]])"
            ]
          },
          "metadata": {
            "tags": []
          },
          "execution_count": 34
        }
      ]
    },
    {
      "cell_type": "code",
      "metadata": {
        "id": "EDxwu8SNQrzF",
        "colab_type": "code",
        "colab": {
          "base_uri": "https://localhost:8080/",
          "height": 265
        },
        "outputId": "84d51dbf-2e73-4bea-8b33-ade0d15c165d"
      },
      "source": [
        "confusion_matrix_plot = confusion_matrix(y_true = Y_test, y_pred = ypred).astype('float') / confusion_matrix(y_true = Y_test, y_pred = ypred).sum(axis = 1)[:, np.newaxis]\n",
        "\n",
        "df_confusion_matrix = pd.DataFrame(confusion_matrix_plot, index = [\"0\",\"1\",\"2\",\"3\"], columns = [\"0\",\"1\",\"2\",\"3\"])\n",
        "\n",
        "heatmap = sns.heatmap(df_confusion_matrix, annot=True, fmt= '.4f')"
      ],
      "execution_count": null,
      "outputs": [
        {
          "output_type": "display_data",
          "data": {
            "image/png": "[encoded data removed]",
            "text/plain": [
              "<Figure size 432x288 with 2 Axes>"
            ]
          },
          "metadata": {
            "tags": []
          }
        }
      ]
    },
    {
      "cell_type": "markdown",
      "metadata": {
        "id": "05pMdLdNMmw5",
        "colab_type": "text"
      },
      "source": [
        "# Simple 1D CNN As Control Group "
      ]
    },
    {
      "cell_type": "code",
      "metadata": {
        "id": "MtWX83SP_Vxg",
        "colab_type": "code",
        "colab": {
          "base_uri": "https://localhost:8080/",
          "height": 1000
        },
        "outputId": "ff09e5dc-d0fe-4307-daa0-a35edb26516b"
      },
      "source": [
        "import copy as cp\n",
        "from sklearn.decomposition import PCA\n",
        "import torch\n",
        "import pandas as pd\n",
        "import torch.nn as nn\n",
        "import torch.optim as optim\n",
        "import torch.nn.functional as F\n",
        "import numpy as np\n",
        "from sklearn.model_selection import train_test_split\n",
        "import matplotlib.pyplot as plt\n",
        "import random\n",
        "import time\n",
        "\n",
        "\n",
        "def GetMiniBatchRandPerm(X, y, n):\n",
        "    idx = np.random.permutation(n)\n",
        "    return X[:,idx[0:n],:], y[idx[0:n]]\n",
        "\n",
        "class RegimeGRU(nn.Module):\n",
        "    def __init__(self, input_dim, hidden_dim, n_lags, batch_size, output_dim=1, num_layers=2):\n",
        "        super(RegimeGRU,self).__init__()\n",
        "        self.input_dim = input_dim # # of features\n",
        "        self.hidden_dim = hidden_dim\n",
        "        self.batch_size = batch_size\n",
        "        self.num_layers = num_layers\n",
        "        self.output_dim = output_dim\n",
        "        self.n_lags = n_lags\n",
        "        # Defeine the GRU layer\n",
        "        self.gru = nn.GRU(self.input_dim, self.hidden_dim, self.num_layers)\n",
        "        \n",
        "        # Define the output layer\n",
        "        self.fc = nn.Linear(self.hidden_dim, self.output_dim)\n",
        "        \n",
        "        self.hidden = self.init_hidden()\n",
        "        \n",
        "    def init_hidden(self):\n",
        "        # initialise hidden state\n",
        "        return (torch.zeros(self.num_layers, self.batch_size, self.hidden_dim).to(device))\n",
        "    \n",
        "    def forward(self,x):\n",
        "        self.batch_size = x.size(1)\n",
        "        self.hidden = self.init_hidden() # initialize hidden state\n",
        "        \n",
        "        with torch.no_grad():\n",
        "            gru_out, self.hidden = self.gru(x, self.hidden)\n",
        "        y_pred = self.fc(gru_out[-1])\n",
        "        return y_pred\n",
        "    \n",
        "def GetTrainAndTest(ratio, Y, X):\n",
        "    N = int(np.floor(len(Y) * ratio))\n",
        "    data_train = pd.concat([Y[0:N], X.iloc[0:N, :]], axis = 1)\n",
        "    data_test = pd.concat([Y[N:len(Y)], X.iloc[N:len(Y)]], axis = 1)\n",
        "    return data_train, data_test\n",
        "    \n",
        "def OmitNAN(X, Y):\n",
        "    for i in range(0,len(X)):\n",
        "        Xsum = np.sum(X[i,:,:],1)\n",
        "        idx = ~np.isnan(Xsum)\n",
        "        X=X[:,idx,:]\n",
        "        Y=Y[idx]\n",
        "    return X, Y \n",
        "\n",
        "def DeleteOutlier(X, Y):\n",
        "    for i in range(0,len(X)):\n",
        "        Xsum = np.sum(X[i,:,:],1)\n",
        "        idx = ( Xsum <= 3)\n",
        "        X=X[:,idx,:]\n",
        "        Y=Y[idx]\n",
        "    return X, Y\n",
        "\n",
        "def GetLags(data_train, data_test, nlags):\n",
        "    end = len(data_train)\n",
        "    Y_train = data_train.iloc[nlags:end, 0]\n",
        "    X_train = np.zeros([nlags, end - nlags, data_train.shape[1] - 1])\n",
        "    \n",
        "    end = len(data_test)\n",
        "    X_test = np.zeros([nlags, end - nlags, data_test.shape[1] - 1])\n",
        "    Y_test = data_test.iloc[nlags:end, 0]\n",
        "    for i in range (1,nlags+1):\n",
        "        end = len(data_train)\n",
        "        X_train[i-1,:,:] = data_train.iloc[nlags-i:end-i, 1:data_test.shape[1]]\n",
        "        end = len(data_test)\n",
        "        X_test[i-1,:,:] = data_test.iloc[nlags-i:end-i, 1:data_test.shape[1]]\n",
        "    return X_train, Y_train, X_test, Y_test\n",
        "\n",
        "\n",
        "def NormalizeFeatures(X_train,X_test):\n",
        "    for i in range (0, X_train.shape[2]):\n",
        "        mu = np.quantile(X_train[:, :, i], 0.5)\n",
        "        temp= X_train[:,:,i] - mu\n",
        "        sigma = max(np.abs(np.quantile(temp, 0.95)), np.abs(np.quantile(temp, 0.05)))\n",
        "        X_train[:,:,i] = temp/sigma\n",
        "        X_test[:,:,i] = (X_test[:,:,i] - mu)/sigma\n",
        "    return X_train, X_test\n",
        "\n",
        "\n",
        "def RunGRU(model, optimizer, criterion, num_epochs, BatchSize, X_train_gpu, Y_train_gpu, X_test_gpu, Y_test):\n",
        "    loss_hist = np.zeros(num_epochs) # record error of every epoch\n",
        "    model.hidden = model.init_hidden()\n",
        "\n",
        "    start_time = time.time()\n",
        "    for t in range(num_epochs):\n",
        "        X_gpu, Y_gpu = GetMiniBatchRandPerm(X_train_gpu, Y_train_gpu, BatchSize)\n",
        "    # reset hidden states\n",
        "        optimizer.zero_grad()\n",
        "    # forward\n",
        "        output = model(X_gpu)\n",
        "    # backward\n",
        "    \n",
        "        loss = criterion(output, Y_gpu)\n",
        "        loss.backward()\n",
        "\n",
        "    # optimize\n",
        "        optimizer.step()    \n",
        "        loss_hist[t] = loss.item()\n",
        "\n",
        "    # print and restore loss\n",
        "        output = model(X_test_gpu)\n",
        "        ypred=np.argmax(output.detach().cpu().numpy(),1)\n",
        "        accuracy = sum(Y_test==ypred)/len(ypred)\n",
        "        \n",
        "        if (t+1)% 500 == 0:\n",
        "            print(\"Epoch:{:0>4d}, CrossEntropy:{:<10.9f}\".format(t,loss.item()))\n",
        "            print('============')\n",
        "        # plot loss so far\n",
        "            plt.plot(loss_hist[0:t])\n",
        "            plt.show()\n",
        "            end_time = time.time()\n",
        "\n",
        "        #print time of processing\n",
        "            print(end_time - start_time)\n",
        "            start_time = time.time()\n",
        "        # show the current prediction accuracy\n",
        "            output = model(X_test_gpu)\n",
        "            \n",
        "            print(accuracy) \n",
        "            \n",
        "    return  model, accuracy\n",
        "\n",
        "\n",
        "MA_period = 20\n",
        "Data = pd.read_excel('^GSPC.xlsx')\n",
        "date = Data.Date\n",
        "data = Data.drop(columns = 'Date')\n",
        "data = np.log(data).diff(axis = 0)\n",
        "\n",
        "col_name = data.columns.tolist()\n",
        "col_name.insert(0,'MAmean')\n",
        "data = data.reindex(columns=col_name)\n",
        "for i in range(MA_period+1, len(data)):\n",
        "    data.MAmean[i-1] = np.mean(data.GSPC[i - MA_period + 1 : i])\n",
        "\n",
        "col_name = data.columns.tolist()\n",
        "col_name.insert(0,'REGIME')\n",
        "data = data.reindex(columns=col_name)\n",
        "data.REGIME = 1\n",
        "for i in range(MA_period+1, len(data)):\n",
        "    if data.GSPC[i] - data.MAmean[i-1] > -0.005:\n",
        "        data.REGIME[i] = data.REGIME[i] + 1\n",
        "        if data.GSPC[i] - data.MAmean[i-1] > 0:\n",
        "            data.REGIME[i] = data.REGIME[i] + 1\n",
        "            if data.GSPC[i] - data.MAmean[i-1] > 0.005:\n",
        "                data.REGIME[i] = data.REGIME[i] + 1\n",
        "    \n",
        "\n",
        "temp = data.values[:, 3:data.shape[1]]\n",
        "data.iloc[1:len(data), 3:data.shape[1]] = cp.deepcopy(temp[0:len(temp)-1, :])\n",
        "Nlags = 3\n",
        "\n",
        "for i in range(0,Nlags):\n",
        "    col_name = data.columns.tolist()\n",
        "    col_name.insert(col_name.index('GSPC') + i + 1, 'GSPC_lag' + str(i+1))\n",
        "    data = data.reindex(columns=col_name)\n",
        "    data['GSPC_lag' + str(i+1)][i + 1:len(data)] = data.GSPC.values[0: len(data) - i - 1]\n",
        "\n",
        "data = data.drop(columns = 'XSPX.L')\n",
        "\n",
        "pcor = data.corr(method = 'pearson')\n",
        "scor = data.corr(method = 'spearman')\n",
        "\n",
        "\n",
        "\n",
        "Regime = data.REGIME[21:len(data)].reset_index(drop=True)\n",
        "GSPC = data.GSPC[21:len(data)].reset_index(drop=True)\n",
        "X = data.loc[21:len(data), ['GSPC_lag1', 'GSPC_lag2', 'GSPC_lag3', 'DJI', 'RUI']].reset_index(drop=True)\n",
        "\n",
        "\n",
        "Nlags = 5\n",
        "data_train, data_test = GetTrainAndTest(2/3, Regime, X)\n",
        "X_train, Y_train, X_test, Y_test = GetLags(data_train, data_test,Nlags)\n",
        "\n",
        "X_train, Y_train = OmitNAN(X_train, Y_train)\n",
        "Y_train -= 1\n",
        "X_test, Y_test = OmitNAN(X_test, Y_test)\n",
        "Y_test -= 1\n",
        "X_train, X_test = NormalizeFeatures(X_train, X_test)\n",
        "\n",
        "X_train, Y_train = DeleteOutlier(X_train, Y_train)\n",
        "X_test, Y_test = DeleteOutlier(X_test, Y_test)\n",
        "\n",
        "\n",
        "model = Sequential()\n",
        "\n",
        "model.add(Conv1D(filters=64, kernel_size=3, padding='valid', activation='relu', strides=2))\n",
        "\n",
        "\n",
        "model.add(Flatten())\n",
        "\n",
        "\n",
        "model.add(Dense(128, activation = 'relu'))\n",
        "model.add(Dropout(0.5))\n",
        "\n",
        "\n",
        "model.add(Dense(1, activation = 'softmax'))\n",
        "\n",
        "adam = keras.optimizers.Adam(learning_rate=0.01, beta_1=0.9, beta_2=0.999, amsgrad=False)\n",
        "model.compile(loss='categorical_crossentropy',\n",
        "              optimizer= adam,\n",
        "              metrics=['acc'])\n",
        "\n",
        "X_train = X_train.swapaxes(0,1)\n",
        "model.fit(X_train, Y_train.values, validation_split=0.33, epochs=30, batch_size=150)\n"
      ],
      "execution_count": null,
      "outputs": [
        {
          "output_type": "stream",
          "text": [
            "/usr/local/lib/python3.6/dist-packages/ipykernel_launcher.py:159: SettingWithCopyWarning: \n",
            "A value is trying to be set on a copy of a slice from a DataFrame\n",
            "\n",
            "See the caveats in the documentation: https://pandas.pydata.org/pandas-docs/stable/user_guide/indexing.html#returning-a-view-versus-a-copy\n",
            "/usr/local/lib/python3.6/dist-packages/ipykernel_launcher.py:161: SettingWithCopyWarning: \n",
            "A value is trying to be set on a copy of a slice from a DataFrame\n",
            "\n",
            "See the caveats in the documentation: https://pandas.pydata.org/pandas-docs/stable/user_guide/indexing.html#returning-a-view-versus-a-copy\n",
            "/usr/local/lib/python3.6/dist-packages/ipykernel_launcher.py:163: SettingWithCopyWarning: \n",
            "A value is trying to be set on a copy of a slice from a DataFrame\n",
            "\n",
            "See the caveats in the documentation: https://pandas.pydata.org/pandas-docs/stable/user_guide/indexing.html#returning-a-view-versus-a-copy\n",
            "/usr/local/lib/python3.6/dist-packages/ipykernel_launcher.py:174: SettingWithCopyWarning: \n",
            "A value is trying to be set on a copy of a slice from a DataFrame\n",
            "\n",
            "See the caveats in the documentation: https://pandas.pydata.org/pandas-docs/stable/user_guide/indexing.html#returning-a-view-versus-a-copy\n"
          ],
          "name": "stderr"
        },
        {
          "output_type": "stream",
          "text": [
            "Epoch 1/30\n",
            "WARNING:tensorflow:Layer conv1d is casting an input tensor from dtype float64 to the layer's dtype of float32, which is new behavior in TensorFlow 2.  The layer has dtype float32 because it's dtype defaults to floatx.\n",
            "\n",
            "If you intended to run this layer in float32, you can safely ignore this warning. If in doubt, this warning is likely only an issue if you are porting a TensorFlow 1.X model to TensorFlow 2.\n",
            "\n",
            "To change all layers to have dtype float64 by default, call `tf.keras.backend.set_floatx('float64')`. To change just this layer, pass dtype='float64' to the layer constructor. If you are the author of this layer, you can disable autocasting by passing autocast=False to the base Layer constructor.\n",
            "\n",
            "7/7 [==============================] - 0s 57ms/step - loss: 0.0000e+00 - acc: 0.2797 - val_loss: 0.0000e+00 - val_acc: 0.2914\n",
            "Epoch 2/30\n",
            "7/7 [==============================] - 0s 8ms/step - loss: 0.0000e+00 - acc: 0.2797 - val_loss: 0.0000e+00 - val_acc: 0.2914\n",
            "Epoch 3/30\n",
            "7/7 [==============================] - 0s 7ms/step - loss: 0.0000e+00 - acc: 0.2797 - val_loss: 0.0000e+00 - val_acc: 0.2914\n",
            "Epoch 4/30\n",
            "7/7 [==============================] - 0s 7ms/step - loss: 0.0000e+00 - acc: 0.2797 - val_loss: 0.0000e+00 - val_acc: 0.2914\n",
            "Epoch 5/30\n",
            "7/7 [==============================] - 0s 8ms/step - loss: 0.0000e+00 - acc: 0.2797 - val_loss: 0.0000e+00 - val_acc: 0.2914\n",
            "Epoch 6/30\n",
            "7/7 [==============================] - 0s 8ms/step - loss: 0.0000e+00 - acc: 0.2797 - val_loss: 0.0000e+00 - val_acc: 0.2914\n",
            "Epoch 7/30\n",
            "7/7 [==============================] - 0s 8ms/step - loss: 0.0000e+00 - acc: 0.2797 - val_loss: 0.0000e+00 - val_acc: 0.2914\n",
            "Epoch 8/30\n",
            "7/7 [==============================] - 0s 7ms/step - loss: 0.0000e+00 - acc: 0.2797 - val_loss: 0.0000e+00 - val_acc: 0.2914\n",
            "Epoch 9/30\n",
            "7/7 [==============================] - 0s 10ms/step - loss: 0.0000e+00 - acc: 0.2797 - val_loss: 0.0000e+00 - val_acc: 0.2914\n",
            "Epoch 10/30\n",
            "7/7 [==============================] - 0s 8ms/step - loss: 0.0000e+00 - acc: 0.2797 - val_loss: 0.0000e+00 - val_acc: 0.2914\n",
            "Epoch 11/30\n",
            "7/7 [==============================] - 0s 7ms/step - loss: 0.0000e+00 - acc: 0.2797 - val_loss: 0.0000e+00 - val_acc: 0.2914\n",
            "Epoch 12/30\n",
            "7/7 [==============================] - 0s 7ms/step - loss: 0.0000e+00 - acc: 0.2797 - val_loss: 0.0000e+00 - val_acc: 0.2914\n",
            "Epoch 13/30\n",
            "7/7 [==============================] - 0s 8ms/step - loss: 0.0000e+00 - acc: 0.2797 - val_loss: 0.0000e+00 - val_acc: 0.2914\n",
            "Epoch 14/30\n",
            "7/7 [==============================] - 0s 7ms/step - loss: 0.0000e+00 - acc: 0.2797 - val_loss: 0.0000e+00 - val_acc: 0.2914\n",
            "Epoch 15/30\n",
            "7/7 [==============================] - 0s 7ms/step - loss: 0.0000e+00 - acc: 0.2797 - val_loss: 0.0000e+00 - val_acc: 0.2914\n",
            "Epoch 16/30\n",
            "7/7 [==============================] - 0s 8ms/step - loss: 0.0000e+00 - acc: 0.2797 - val_loss: 0.0000e+00 - val_acc: 0.2914\n",
            "Epoch 17/30\n",
            "7/7 [==============================] - 0s 7ms/step - loss: 0.0000e+00 - acc: 0.2797 - val_loss: 0.0000e+00 - val_acc: 0.2914\n",
            "Epoch 18/30\n",
            "7/7 [==============================] - 0s 8ms/step - loss: 0.0000e+00 - acc: 0.2797 - val_loss: 0.0000e+00 - val_acc: 0.2914\n",
            "Epoch 19/30\n",
            "7/7 [==============================] - 0s 9ms/step - loss: 0.0000e+00 - acc: 0.2797 - val_loss: 0.0000e+00 - val_acc: 0.2914\n",
            "Epoch 20/30\n",
            "7/7 [==============================] - 0s 7ms/step - loss: 0.0000e+00 - acc: 0.2797 - val_loss: 0.0000e+00 - val_acc: 0.2914\n",
            "Epoch 21/30\n",
            "7/7 [==============================] - 0s 8ms/step - loss: 0.0000e+00 - acc: 0.2797 - val_loss: 0.0000e+00 - val_acc: 0.2914\n",
            "Epoch 22/30\n",
            "7/7 [==============================] - 0s 7ms/step - loss: 0.0000e+00 - acc: 0.2797 - val_loss: 0.0000e+00 - val_acc: 0.2914\n",
            "Epoch 23/30\n",
            "7/7 [==============================] - 0s 9ms/step - loss: 0.0000e+00 - acc: 0.2797 - val_loss: 0.0000e+00 - val_acc: 0.2914\n",
            "Epoch 24/30\n",
            "7/7 [==============================] - 0s 8ms/step - loss: 0.0000e+00 - acc: 0.2797 - val_loss: 0.0000e+00 - val_acc: 0.2914\n",
            "Epoch 25/30\n",
            "7/7 [==============================] - 0s 8ms/step - loss: 0.0000e+00 - acc: 0.2797 - val_loss: 0.0000e+00 - val_acc: 0.2914\n",
            "Epoch 26/30\n",
            "7/7 [==============================] - 0s 8ms/step - loss: 0.0000e+00 - acc: 0.2797 - val_loss: 0.0000e+00 - val_acc: 0.2914\n",
            "Epoch 27/30\n",
            "7/7 [==============================] - 0s 8ms/step - loss: 0.0000e+00 - acc: 0.2797 - val_loss: 0.0000e+00 - val_acc: 0.2914\n",
            "Epoch 28/30\n",
            "7/7 [==============================] - 0s 8ms/step - loss: 0.0000e+00 - acc: 0.2797 - val_loss: 0.0000e+00 - val_acc: 0.2914\n",
            "Epoch 29/30\n",
            "7/7 [==============================] - 0s 8ms/step - loss: 0.0000e+00 - acc: 0.2797 - val_loss: 0.0000e+00 - val_acc: 0.2914\n",
            "Epoch 30/30\n",
            "7/7 [==============================] - 0s 8ms/step - loss: 0.0000e+00 - acc: 0.2797 - val_loss: 0.0000e+00 - val_acc: 0.2914\n"
          ],
          "name": "stdout"
        },
        {
          "output_type": "execute_result",
          "data": {
            "text/plain": [
              "<tensorflow.python.keras.callbacks.History at 0x7f4096ce2550>"
            ]
          },
          "metadata": {
            "tags": []
          },
          "execution_count": 75
        }
      ]
    },
    {
      "cell_type": "markdown",
      "metadata": {
        "id": "iAwThZPXQxkD",
        "colab_type": "text"
      },
      "source": [
        "Confusion Matrix"
      ]
    },
    {
      "cell_type": "code",
      "metadata": {
        "id": "2DnWlREKNums",
        "colab_type": "code",
        "colab": {}
      },
      "source": [
        "X_test = X_test.swapaxes(0,1)"
      ],
      "execution_count": null,
      "outputs": []
    },
    {
      "cell_type": "code",
      "metadata": {
        "id": "bXbocyB1Q2H9",
        "colab_type": "code",
        "colab": {
          "base_uri": "https://localhost:8080/",
          "height": 105
        },
        "outputId": "524deb5c-4239-4c69-dc00-b408ef77a6cc"
      },
      "source": [
        "cnn_y_pred = model.predict_classes(X_test,verbose = 1)"
      ],
      "execution_count": null,
      "outputs": [
        {
          "output_type": "stream",
          "text": [
            "WARNING:tensorflow:From <ipython-input-77-32bb64d86842>:1: Sequential.predict_classes (from tensorflow.python.keras.engine.sequential) is deprecated and will be removed after 2021-01-01.\n",
            "Instructions for updating:\n",
            "Please use instead:* `np.argmax(model.predict(x), axis=-1)`,   if your model does multi-class classification   (e.g. if it uses a `softmax` last-layer activation).* `(model.predict(x) > 0.5).astype(\"int32\")`,   if your model does binary classification   (e.g. if it uses a `sigmoid` last-layer activation).\n",
            "24/24 [==============================] - 0s 1ms/step\n"
          ],
          "name": "stdout"
        }
      ]
    },
    {
      "cell_type": "code",
      "metadata": {
        "id": "n81bmX8FQ4b4",
        "colab_type": "code",
        "colab": {
          "base_uri": "https://localhost:8080/",
          "height": 85
        },
        "outputId": "5016415e-0be9-43f2-ccad-adee5580bd38"
      },
      "source": [
        "from sklearn.metrics import confusion_matrix\n",
        "\n",
        "confusion_matrix(y_true = Y_test, y_pred = cnn_y_pred)"
      ],
      "execution_count": null,
      "outputs": [
        {
          "output_type": "execute_result",
          "data": {
            "text/plain": [
              "array([[  0, 129,   0,   0],\n",
              "       [  0, 275,   0,   0],\n",
              "       [  0, 216,   0,   0],\n",
              "       [  0, 145,   0,   0]])"
            ]
          },
          "metadata": {
            "tags": []
          },
          "execution_count": 78
        }
      ]
    },
    {
      "cell_type": "code",
      "metadata": {
        "id": "aFuVifuVQ50t",
        "colab_type": "code",
        "colab": {
          "base_uri": "https://localhost:8080/",
          "height": 269
        },
        "outputId": "b063029d-6b91-4301-b101-11ddbca0bcd6"
      },
      "source": [
        "confusion_matrix_plot = confusion_matrix(y_true = Y_test, y_pred = cnn_y_pred).astype('float') / confusion_matrix(y_true = Y_test, y_pred = cnn_y_pred).sum(axis = 1)[:, np.newaxis]\n",
        "\n",
        "df_confusion_matrix = pd.DataFrame(confusion_matrix_plot, index = [\"0\",\"1\",\"2\",\"3\"], columns = [\"0\",\"1\",\"2\",\"3\"])\n",
        "\n",
        "heatmap = sns.heatmap(df_confusion_matrix, annot=True, fmt= '.4f')"
      ],
      "execution_count": null,
      "outputs": [
        {
          "output_type": "display_data",
          "data": {
            "image/png": "[encoded data removed]",
            "text/plain": [
              "<Figure size 432x288 with 2 Axes>"
            ]
          },
          "metadata": {
            "tags": []
          }
        }
      ]
    },
    {
      "cell_type": "markdown",
      "metadata": {
        "id": "7xntOg3PR6Jg",
        "colab_type": "text"
      },
      "source": [
        "# Naive Methods"
      ]
    },
    {
      "cell_type": "markdown",
      "metadata": {
        "id": "8tCcMdjFR_N-",
        "colab_type": "text"
      },
      "source": [
        "##1. Random Number Method "
      ]
    },
    {
      "cell_type": "markdown",
      "metadata": {
        "id": "IUXp5K99SZtM",
        "colab_type": "text"
      },
      "source": [
        "Since there are 4 categories, the chance to predict the correct category is 25"
      ]
    },
    {
      "cell_type": "markdown",
      "metadata": {
        "id": "Tq_KGD8OSbb4",
        "colab_type": "text"
      },
      "source": [
        "##2. Focus on the Most Frequent Movement Category "
      ]
    },
    {
      "cell_type": "code",
      "metadata": {
        "id": "RKHsz5HduSkS",
        "colab_type": "code",
        "colab": {
          "base_uri": "https://localhost:8080/",
          "height": 102
        },
        "outputId": "6b80b4d7-fc08-4a71-e389-1adc1624a6db"
      },
      "source": [
        "Y_train.value_counts() / len(Y_train)"
      ],
      "execution_count": null,
      "outputs": [
        {
          "output_type": "execute_result",
          "data": {
            "text/plain": [
              "1    0.283528\n",
              "0    0.240525\n",
              "2    0.239067\n",
              "3    0.236880\n",
              "Name: REGIME, dtype: float64"
            ]
          },
          "metadata": {
            "tags": []
          },
          "execution_count": 80
        }
      ]
    },
    {
      "cell_type": "code",
      "metadata": {
        "id": "zFSBDKSBZCvk",
        "colab_type": "code",
        "colab": {}
      },
      "source": [
        "accuarcy = np.count_nonzero(Y_test == 2) / len(Y_test)"
      ],
      "execution_count": null,
      "outputs": []
    },
    {
      "cell_type": "code",
      "metadata": {
        "id": "EEcW1e5Lblo2",
        "colab_type": "code",
        "colab": {
          "base_uri": "https://localhost:8080/",
          "height": 34
        },
        "outputId": "e2d51fa5-7295-4f5c-f00d-d193e5509097"
      },
      "source": [
        "accuarcy"
      ],
      "execution_count": null,
      "outputs": [
        {
          "output_type": "execute_result",
          "data": {
            "text/plain": [
              "0.2823529411764706"
            ]
          },
          "metadata": {
            "tags": []
          },
          "execution_count": 82
        }
      ]
    },
    {
      "cell_type": "code",
      "metadata": {
        "id": "oEZCQnb7hJ9n",
        "colab_type": "code",
        "colab": {}
      },
      "source": [
        "Y_test = Y_test.to_list()"
      ],
      "execution_count": null,
      "outputs": []
    },
    {
      "cell_type": "markdown",
      "metadata": {
        "id": "xwrEVIdXb4Ia",
        "colab_type": "text"
      },
      "source": [
        "##3. Naive Method for Markov Chain Prediction  "
      ]
    },
    {
      "cell_type": "code",
      "metadata": {
        "id": "zQIjbL4Ncp_J",
        "colab_type": "code",
        "colab": {}
      },
      "source": [
        "prediction_list = []\n",
        "def Naive_Markov (x):\n",
        "  initial_start = x[0]\n",
        "  naive_guess = initial_start\n",
        "  for element in x[1:]: \n",
        "    if naive_guess == element:\n",
        "      prediction_list.append(naive_guess)\n",
        "    else:\n",
        "      prediction_list.append(naive_guess)\n",
        "      naive_guess = element"
      ],
      "execution_count": null,
      "outputs": []
    },
    {
      "cell_type": "code",
      "metadata": {
        "id": "jmWva5cmgqKK",
        "colab_type": "code",
        "colab": {}
      },
      "source": [
        "Naive_Markov(Y_test)"
      ],
      "execution_count": null,
      "outputs": []
    },
    {
      "cell_type": "code",
      "metadata": {
        "id": "-V-OhmmojbKs",
        "colab_type": "code",
        "colab": {
          "base_uri": "https://localhost:8080/",
          "height": 34
        },
        "outputId": "328cdbe0-dd76-482e-bdeb-5cb4a5f68b1e"
      },
      "source": [
        "len(prediction_list)\n",
        "len(Y_test)"
      ],
      "execution_count": null,
      "outputs": [
        {
          "output_type": "execute_result",
          "data": {
            "text/plain": [
              "765"
            ]
          },
          "metadata": {
            "tags": []
          },
          "execution_count": 87
        }
      ]
    },
    {
      "cell_type": "code",
      "metadata": {
        "id": "RMpejKAUnq34",
        "colab_type": "code",
        "colab": {}
      },
      "source": [
        "def matching (list1, list2):\n",
        "  result = []\n",
        "  assert len(list1) == len(list2), \"lists should have same length\"\n",
        "  for i in range(0, len(list1)-1):\n",
        "    if list1[i] == list2[i]:\n",
        "      result.append(True)\n",
        "    else:\n",
        "      result.append(False)\n",
        "  return result\n"
      ],
      "execution_count": null,
      "outputs": []
    },
    {
      "cell_type": "code",
      "metadata": {
        "id": "_FSGUicfmJLF",
        "colab_type": "code",
        "colab": {
          "base_uri": "https://localhost:8080/",
          "height": 34
        },
        "outputId": "d95dea78-b559-44a6-fd8a-ef15924e73f5"
      },
      "source": [
        "Y_test[1:6]"
      ],
      "execution_count": null,
      "outputs": [
        {
          "output_type": "execute_result",
          "data": {
            "text/plain": [
              "[2, 0, 1, 1, 0]"
            ]
          },
          "metadata": {
            "tags": []
          },
          "execution_count": 89
        }
      ]
    },
    {
      "cell_type": "code",
      "metadata": {
        "id": "wAWrlLjWmM4c",
        "colab_type": "code",
        "colab": {
          "base_uri": "https://localhost:8080/",
          "height": 34
        },
        "outputId": "4a8c3bc0-76be-4b1e-eb7d-12fe722b8d17"
      },
      "source": [
        "prediction_list[0:5]"
      ],
      "execution_count": null,
      "outputs": [
        {
          "output_type": "execute_result",
          "data": {
            "text/plain": [
              "[1, 2, 0, 1, 1]"
            ]
          },
          "metadata": {
            "tags": []
          },
          "execution_count": 90
        }
      ]
    },
    {
      "cell_type": "code",
      "metadata": {
        "id": "xKF0QWablEcx",
        "colab_type": "code",
        "colab": {}
      },
      "source": [
        "match_result = matching(Y_test[1:], prediction_list)\n",
        "matches = match_result.count(True)\n",
        "accuarcy = matches / len(Y_test)"
      ],
      "execution_count": null,
      "outputs": []
    },
    {
      "cell_type": "code",
      "metadata": {
        "id": "IRkhrpgIlazQ",
        "colab_type": "code",
        "colab": {
          "base_uri": "https://localhost:8080/",
          "height": 34
        },
        "outputId": "59af7394-716b-47e0-9092-5066ca06ef31"
      },
      "source": [
        "accuarcy"
      ],
      "execution_count": null,
      "outputs": [
        {
          "output_type": "execute_result",
          "data": {
            "text/plain": [
              "0.2928104575163399"
            ]
          },
          "metadata": {
            "tags": []
          },
          "execution_count": 92
        }
      ]
    },
    {
      "cell_type": "code",
      "metadata": {
        "id": "a_Q0eg4HfFI0",
        "colab_type": "code",
        "colab": {
          "base_uri": "https://localhost:8080/",
          "height": 85
        },
        "outputId": "58fa8d04-1d80-4c32-a642-bee120596eda"
      },
      "source": [
        "confusion_matrix(y_true = Y_test[1:], y_pred = prediction_list)"
      ],
      "execution_count": null,
      "outputs": [
        {
          "output_type": "execute_result",
          "data": {
            "text/plain": [
              "array([[ 27,  39,  40,  23],\n",
              "       [ 33, 106,  88,  47],\n",
              "       [ 31,  87,  57,  41],\n",
              "       [ 37,  43,  31,  34]])"
            ]
          },
          "metadata": {
            "tags": []
          },
          "execution_count": 95
        }
      ]
    }
  ]
}